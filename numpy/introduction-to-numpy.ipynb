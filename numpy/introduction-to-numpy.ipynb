{
 "cells": [
  {
   "cell_type": "markdown",
   "id": "ab2a4816",
   "metadata": {},
   "source": [
    "# NumPy"
   ]
  },
  {
   "cell_type": "markdown",
   "id": "1ba22443",
   "metadata": {},
   "source": [
    "**Jupyter notebooks tip! When cursor located inside parens of a method, press `Shift+Tab` to see the method's docstring!**"
   ]
  },
  {
   "cell_type": "markdown",
   "id": "77f2ed32",
   "metadata": {},
   "source": [
    "[NumPy Documentation](https://numpy.org/doc/)\n",
    "\n",
    "Why NumPy over Python Lists?\n",
    "\n",
    "1. Underlying optimizations in NumPy are written and executed in C (faster than Python). Speed is important in ML processing. Uses Vectorization via broadcasting to avoid using loops.\n",
    "2. Helps in converting other data into numbers which a computer can understand."
   ]
  },
  {
   "cell_type": "markdown",
   "id": "ac7b11b9",
   "metadata": {},
   "source": [
    "## NumPy Data Types and Attributes"
   ]
  },
  {
   "cell_type": "markdown",
   "id": "d3e499a5",
   "metadata": {},
   "source": [
    "![](./anatomy-of-a-numpy-array.png)"
   ]
  },
  {
   "cell_type": "code",
   "execution_count": 1,
   "id": "90552f7c",
   "metadata": {},
   "outputs": [],
   "source": [
    "import numpy as np"
   ]
  },
  {
   "cell_type": "markdown",
   "id": "7482c1f2",
   "metadata": {},
   "source": [
    "NumPy's main data type is an `ndarray`, an n-dimentional array."
   ]
  },
  {
   "cell_type": "code",
   "execution_count": 2,
   "id": "50cd493b",
   "metadata": {},
   "outputs": [
    {
     "data": {
      "text/plain": [
       "array([1, 2, 3])"
      ]
     },
     "execution_count": 2,
     "metadata": {},
     "output_type": "execute_result"
    }
   ],
   "source": [
    "a1 = np.array([1,2,3])\n",
    "a1 # Vector. Shape(1,3)"
   ]
  },
  {
   "cell_type": "code",
   "execution_count": 3,
   "id": "c80e4d8b",
   "metadata": {},
   "outputs": [
    {
     "data": {
      "text/plain": [
       "numpy.ndarray"
      ]
     },
     "execution_count": 3,
     "metadata": {},
     "output_type": "execute_result"
    }
   ],
   "source": [
    "type(a1)"
   ]
  },
  {
   "cell_type": "markdown",
   "id": "837d405c",
   "metadata": {},
   "source": [
    "You can create multi-dimensional arrays"
   ]
  },
  {
   "cell_type": "code",
   "execution_count": 4,
   "id": "9b4506b9",
   "metadata": {},
   "outputs": [],
   "source": [
    "a2 = np.array([[1,2,3.3],[4,5,6.5]])  # Matrix. Shape(2,3)\n",
    "\n",
    "a3 = np.array([[[1,2,3],\n",
    "                [4,5,6],\n",
    "                [7,8,9]],\n",
    "                [[10,11,12],\n",
    "                [13,14,15],\n",
    "                [16,17,18]]])  # Matrix. Shape(2,3,3)"
   ]
  },
  {
   "cell_type": "code",
   "execution_count": 5,
   "id": "9b4b9b88",
   "metadata": {},
   "outputs": [
    {
     "data": {
      "text/plain": [
       "array([[1. , 2. , 3.3],\n",
       "       [4. , 5. , 6.5]])"
      ]
     },
     "execution_count": 5,
     "metadata": {},
     "output_type": "execute_result"
    }
   ],
   "source": [
    "a2"
   ]
  },
  {
   "cell_type": "code",
   "execution_count": 6,
   "id": "cb2c1630",
   "metadata": {},
   "outputs": [
    {
     "data": {
      "text/plain": [
       "array([[[ 1,  2,  3],\n",
       "        [ 4,  5,  6],\n",
       "        [ 7,  8,  9]],\n",
       "\n",
       "       [[10, 11, 12],\n",
       "        [13, 14, 15],\n",
       "        [16, 17, 18]]])"
      ]
     },
     "execution_count": 6,
     "metadata": {},
     "output_type": "execute_result"
    }
   ],
   "source": [
    "a3"
   ]
  },
  {
   "cell_type": "markdown",
   "id": "b4246281",
   "metadata": {},
   "source": [
    "Get the shape of the ndarray"
   ]
  },
  {
   "cell_type": "code",
   "execution_count": 7,
   "id": "2bcd7249",
   "metadata": {},
   "outputs": [
    {
     "data": {
      "text/plain": [
       "(3,)"
      ]
     },
     "execution_count": 7,
     "metadata": {},
     "output_type": "execute_result"
    }
   ],
   "source": [
    "a1.shape"
   ]
  },
  {
   "cell_type": "code",
   "execution_count": 8,
   "id": "df8f2726",
   "metadata": {},
   "outputs": [
    {
     "data": {
      "text/plain": [
       "(2, 3)"
      ]
     },
     "execution_count": 8,
     "metadata": {},
     "output_type": "execute_result"
    }
   ],
   "source": [
    "a2.shape"
   ]
  },
  {
   "cell_type": "code",
   "execution_count": 9,
   "id": "c425ab29",
   "metadata": {},
   "outputs": [
    {
     "data": {
      "text/plain": [
       "(2, 3, 3)"
      ]
     },
     "execution_count": 9,
     "metadata": {},
     "output_type": "execute_result"
    }
   ],
   "source": [
    "a3.shape"
   ]
  },
  {
   "cell_type": "markdown",
   "id": "25a9774d",
   "metadata": {},
   "source": [
    "Show number of dimensions in arrays"
   ]
  },
  {
   "cell_type": "code",
   "execution_count": 10,
   "id": "726c1ca2",
   "metadata": {},
   "outputs": [
    {
     "data": {
      "text/plain": [
       "(1, 2, 3)"
      ]
     },
     "execution_count": 10,
     "metadata": {},
     "output_type": "execute_result"
    }
   ],
   "source": [
    "a1.ndim, a2.ndim, a3.ndim"
   ]
  },
  {
   "cell_type": "markdown",
   "id": "2633cec3",
   "metadata": {},
   "source": [
    "Show data types in the arrays"
   ]
  },
  {
   "cell_type": "code",
   "execution_count": 11,
   "id": "8a5efb4e",
   "metadata": {},
   "outputs": [
    {
     "data": {
      "text/plain": [
       "(dtype('int64'), dtype('float64'), dtype('int64'))"
      ]
     },
     "execution_count": 11,
     "metadata": {},
     "output_type": "execute_result"
    }
   ],
   "source": [
    "a1.dtype, a2.dtype, a3.dtype"
   ]
  },
  {
   "cell_type": "markdown",
   "id": "c4553192",
   "metadata": {},
   "source": [
    "Show the size (number of items in an array)"
   ]
  },
  {
   "cell_type": "code",
   "execution_count": 12,
   "id": "21400547",
   "metadata": {},
   "outputs": [
    {
     "data": {
      "text/plain": [
       "(3, 6, 18)"
      ]
     },
     "execution_count": 12,
     "metadata": {},
     "output_type": "execute_result"
    }
   ],
   "source": [
    "a1.size, a2.size, a3.size"
   ]
  },
  {
   "cell_type": "markdown",
   "id": "b922122c",
   "metadata": {},
   "source": [
    "Show types of the arrays themselves"
   ]
  },
  {
   "cell_type": "code",
   "execution_count": 13,
   "id": "ab1fe3a1",
   "metadata": {},
   "outputs": [
    {
     "data": {
      "text/plain": [
       "(numpy.ndarray, numpy.ndarray, numpy.ndarray)"
      ]
     },
     "execution_count": 13,
     "metadata": {},
     "output_type": "execute_result"
    }
   ],
   "source": [
    "type(a1), type(a2), type(a3)"
   ]
  },
  {
   "cell_type": "markdown",
   "id": "6a0367dc",
   "metadata": {},
   "source": [
    "**No matter what shape your data has, they will still be ndarray type**"
   ]
  },
  {
   "cell_type": "code",
   "execution_count": 14,
   "id": "faf565ef",
   "metadata": {},
   "outputs": [
    {
     "data": {
      "text/plain": [
       "array([[1. , 2. , 3.3],\n",
       "       [4. , 5. , 6.5]])"
      ]
     },
     "execution_count": 14,
     "metadata": {},
     "output_type": "execute_result"
    }
   ],
   "source": [
    "a2"
   ]
  },
  {
   "cell_type": "code",
   "execution_count": 15,
   "id": "983091f9",
   "metadata": {},
   "outputs": [
    {
     "data": {
      "text/html": [
       "<div>\n",
       "<style scoped>\n",
       "    .dataframe tbody tr th:only-of-type {\n",
       "        vertical-align: middle;\n",
       "    }\n",
       "\n",
       "    .dataframe tbody tr th {\n",
       "        vertical-align: top;\n",
       "    }\n",
       "\n",
       "    .dataframe thead th {\n",
       "        text-align: right;\n",
       "    }\n",
       "</style>\n",
       "<table border=\"1\" class=\"dataframe\">\n",
       "  <thead>\n",
       "    <tr style=\"text-align: right;\">\n",
       "      <th></th>\n",
       "      <th>0</th>\n",
       "      <th>1</th>\n",
       "      <th>2</th>\n",
       "    </tr>\n",
       "  </thead>\n",
       "  <tbody>\n",
       "    <tr>\n",
       "      <th>0</th>\n",
       "      <td>1.0</td>\n",
       "      <td>2.0</td>\n",
       "      <td>3.3</td>\n",
       "    </tr>\n",
       "    <tr>\n",
       "      <th>1</th>\n",
       "      <td>4.0</td>\n",
       "      <td>5.0</td>\n",
       "      <td>6.5</td>\n",
       "    </tr>\n",
       "  </tbody>\n",
       "</table>\n",
       "</div>"
      ],
      "text/plain": [
       "     0    1    2\n",
       "0  1.0  2.0  3.3\n",
       "1  4.0  5.0  6.5"
      ]
     },
     "execution_count": 15,
     "metadata": {},
     "output_type": "execute_result"
    }
   ],
   "source": [
    "# Create a DataFrame from a numpy array\n",
    "import pandas as pd\n",
    "\n",
    "df = pd.DataFrame(a2)\n",
    "df"
   ]
  },
  {
   "cell_type": "markdown",
   "id": "9c074fe4",
   "metadata": {},
   "source": [
    "## Creating NumPy Arrays"
   ]
  },
  {
   "cell_type": "markdown",
   "id": "e50d5685",
   "metadata": {},
   "source": [
    "[Documentation](https://numpy.org/doc/1.21/user/basics.creation.html)"
   ]
  },
  {
   "cell_type": "code",
   "execution_count": 16,
   "id": "ef9481b7",
   "metadata": {},
   "outputs": [
    {
     "data": {
      "text/plain": [
       "array([1, 2, 3])"
      ]
     },
     "execution_count": 16,
     "metadata": {},
     "output_type": "execute_result"
    }
   ],
   "source": [
    "sample_array = np.array([1,2,3])\n",
    "sample_array"
   ]
  },
  {
   "cell_type": "markdown",
   "id": "dd786abb",
   "metadata": {},
   "source": [
    "Pre-fill an array of numbers"
   ]
  },
  {
   "cell_type": "code",
   "execution_count": 17,
   "id": "6a4ae2c7",
   "metadata": {},
   "outputs": [],
   "source": [
    "ones = np.ones((2, 3))"
   ]
  },
  {
   "cell_type": "code",
   "execution_count": 18,
   "id": "d46cfa88",
   "metadata": {},
   "outputs": [
    {
     "data": {
      "text/plain": [
       "array([[1., 1., 1.],\n",
       "       [1., 1., 1.]])"
      ]
     },
     "execution_count": 18,
     "metadata": {},
     "output_type": "execute_result"
    }
   ],
   "source": [
    "ones"
   ]
  },
  {
   "cell_type": "code",
   "execution_count": 19,
   "id": "1ae65480",
   "metadata": {},
   "outputs": [
    {
     "data": {
      "text/plain": [
       "numpy.ndarray"
      ]
     },
     "execution_count": 19,
     "metadata": {},
     "output_type": "execute_result"
    }
   ],
   "source": [
    "type(ones)"
   ]
  },
  {
   "cell_type": "code",
   "execution_count": 20,
   "id": "96134418",
   "metadata": {},
   "outputs": [
    {
     "data": {
      "text/plain": [
       "array([[0., 0., 0.],\n",
       "       [0., 0., 0.]])"
      ]
     },
     "execution_count": 20,
     "metadata": {},
     "output_type": "execute_result"
    }
   ],
   "source": [
    "zeros = np.zeros((2, 3))\n",
    "zeros"
   ]
  },
  {
   "cell_type": "markdown",
   "id": "fb4421f5",
   "metadata": {},
   "source": [
    "Filling with ones or zeros is useful for making sure the shape of the data is correct before filling with data and passing to an ML algorithm."
   ]
  },
  {
   "cell_type": "markdown",
   "id": "54d4b5a9",
   "metadata": {},
   "source": [
    "Create ndarray from a range of numbers"
   ]
  },
  {
   "cell_type": "code",
   "execution_count": 21,
   "id": "0aa8169c",
   "metadata": {},
   "outputs": [],
   "source": [
    "# help(np.arange)"
   ]
  },
  {
   "cell_type": "code",
   "execution_count": 22,
   "id": "d6870b04",
   "metadata": {},
   "outputs": [],
   "source": [
    "range_array = np.arange(0, 10)\n",
    "range_array2 = np.arange(0, 10, 2)"
   ]
  },
  {
   "cell_type": "code",
   "execution_count": 23,
   "id": "758ae6f3",
   "metadata": {},
   "outputs": [
    {
     "data": {
      "text/plain": [
       "array([0, 1, 2, 3, 4, 5, 6, 7, 8, 9])"
      ]
     },
     "execution_count": 23,
     "metadata": {},
     "output_type": "execute_result"
    }
   ],
   "source": [
    "range_array"
   ]
  },
  {
   "cell_type": "code",
   "execution_count": 24,
   "id": "65534395",
   "metadata": {},
   "outputs": [
    {
     "data": {
      "text/plain": [
       "array([0, 2, 4, 6, 8])"
      ]
     },
     "execution_count": 24,
     "metadata": {},
     "output_type": "execute_result"
    }
   ],
   "source": [
    "range_array2"
   ]
  },
  {
   "cell_type": "markdown",
   "id": "9d60a226",
   "metadata": {},
   "source": [
    "Create ndarray of random numbers"
   ]
  },
  {
   "cell_type": "code",
   "execution_count": 25,
   "id": "c5d6b06b",
   "metadata": {},
   "outputs": [],
   "source": [
    "random_array = np.random.randint(0, 10, size=(3,5))"
   ]
  },
  {
   "cell_type": "code",
   "execution_count": 26,
   "id": "68c31dce",
   "metadata": {},
   "outputs": [
    {
     "data": {
      "text/plain": [
       "array([[8, 2, 7, 0, 0],\n",
       "       [8, 3, 4, 0, 8],\n",
       "       [4, 1, 0, 7, 1]])"
      ]
     },
     "execution_count": 26,
     "metadata": {},
     "output_type": "execute_result"
    }
   ],
   "source": [
    "random_array"
   ]
  },
  {
   "cell_type": "code",
   "execution_count": 27,
   "id": "2b1c3567",
   "metadata": {},
   "outputs": [
    {
     "data": {
      "text/plain": [
       "15"
      ]
     },
     "execution_count": 27,
     "metadata": {},
     "output_type": "execute_result"
    }
   ],
   "source": [
    "random_array.size"
   ]
  },
  {
   "cell_type": "code",
   "execution_count": 28,
   "id": "e83f9bec",
   "metadata": {},
   "outputs": [
    {
     "data": {
      "text/plain": [
       "(3, 5)"
      ]
     },
     "execution_count": 28,
     "metadata": {},
     "output_type": "execute_result"
    }
   ],
   "source": [
    "random_array.shape"
   ]
  },
  {
   "cell_type": "code",
   "execution_count": 29,
   "id": "f4c9728b",
   "metadata": {},
   "outputs": [],
   "source": [
    "random_array2 = np.random.random((5, 3))  # pass the size of the data into the random function"
   ]
  },
  {
   "cell_type": "code",
   "execution_count": 30,
   "id": "2d383ec9",
   "metadata": {},
   "outputs": [
    {
     "data": {
      "text/plain": [
       "array([[0.68796212, 0.55449111, 0.40311024],\n",
       "       [0.18235961, 0.29331144, 0.78005896],\n",
       "       [0.72240579, 0.2779318 , 0.17362137],\n",
       "       [0.88054589, 0.6936581 , 0.52509342],\n",
       "       [0.45951282, 0.39527051, 0.407867  ]])"
      ]
     },
     "execution_count": 30,
     "metadata": {},
     "output_type": "execute_result"
    }
   ],
   "source": [
    "random_array2"
   ]
  },
  {
   "cell_type": "code",
   "execution_count": 31,
   "id": "bb5fe356",
   "metadata": {},
   "outputs": [
    {
     "name": "stdout",
     "output_type": "stream",
     "text": [
      "Help on built-in function random:\n",
      "\n",
      "random(...) method of numpy.random.mtrand.RandomState instance\n",
      "    random(size=None)\n",
      "    \n",
      "    Return random floats in the half-open interval [0.0, 1.0). Alias for\n",
      "    `random_sample` to ease forward-porting to the new random API.\n",
      "\n"
     ]
    }
   ],
   "source": [
    "help(np.random.random)"
   ]
  },
  {
   "cell_type": "code",
   "execution_count": 32,
   "id": "f3a17fef",
   "metadata": {},
   "outputs": [
    {
     "data": {
      "text/plain": [
       "(5, 3)"
      ]
     },
     "execution_count": 32,
     "metadata": {},
     "output_type": "execute_result"
    }
   ],
   "source": [
    "random_array2.shape"
   ]
  },
  {
   "cell_type": "code",
   "execution_count": 33,
   "id": "ad7f6d06",
   "metadata": {},
   "outputs": [
    {
     "data": {
      "text/plain": [
       "15"
      ]
     },
     "execution_count": 33,
     "metadata": {},
     "output_type": "execute_result"
    }
   ],
   "source": [
    "random_array2.size"
   ]
  },
  {
   "cell_type": "code",
   "execution_count": 34,
   "id": "4264ce3b",
   "metadata": {},
   "outputs": [],
   "source": [
    "random_array3 = np.random.rand(5,3)"
   ]
  },
  {
   "cell_type": "code",
   "execution_count": 35,
   "id": "6d76c168",
   "metadata": {},
   "outputs": [
    {
     "data": {
      "text/plain": [
       "array([[0.93702581, 0.0545025 , 0.11322967],\n",
       "       [0.42166644, 0.22425692, 0.76708333],\n",
       "       [0.0515231 , 0.15386023, 0.9387738 ],\n",
       "       [0.45444285, 0.44119941, 0.50209   ],\n",
       "       [0.83038783, 0.66457552, 0.78543909]])"
      ]
     },
     "execution_count": 35,
     "metadata": {},
     "output_type": "execute_result"
    }
   ],
   "source": [
    "random_array3"
   ]
  },
  {
   "cell_type": "markdown",
   "id": "72c3c406",
   "metadata": {},
   "source": [
    "Random numbers specified like this aren't actually random, they are pseudo-random numbers and require a seed for the randomness (e.g. unix time)"
   ]
  },
  {
   "cell_type": "markdown",
   "id": "bdd5ecbb",
   "metadata": {},
   "source": [
    "## NumPy Random Seed"
   ]
  },
  {
   "cell_type": "markdown",
   "id": "af19d28b",
   "metadata": {},
   "source": [
    "`np.random.seed()` is used to create repeatble, random numbers. Useful for sharing experiment with others so they can reproduce the results."
   ]
  },
  {
   "cell_type": "code",
   "execution_count": 36,
   "id": "e98b3b8d",
   "metadata": {},
   "outputs": [
    {
     "data": {
      "text/plain": [
       "array([[6, 1, 6],\n",
       "       [5, 5, 9],\n",
       "       [6, 8, 0],\n",
       "       [8, 1, 5],\n",
       "       [3, 1, 0]])"
      ]
     },
     "execution_count": 36,
     "metadata": {},
     "output_type": "execute_result"
    }
   ],
   "source": [
    "# re-running this cell over & over would yield the same numbers\n",
    "np.random.seed(seed=9999)\n",
    "random_array4 = np.random.randint(10, size=(5,3))\n",
    "random_array4"
   ]
  },
  {
   "cell_type": "code",
   "execution_count": 37,
   "id": "caaee39c",
   "metadata": {},
   "outputs": [
    {
     "data": {
      "text/plain": [
       "(5, 3)"
      ]
     },
     "execution_count": 37,
     "metadata": {},
     "output_type": "execute_result"
    }
   ],
   "source": [
    "random_array4.shape"
   ]
  },
  {
   "cell_type": "code",
   "execution_count": 38,
   "id": "2d4ab93b",
   "metadata": {},
   "outputs": [
    {
     "data": {
      "text/plain": [
       "array([[0.07630829, 0.77991879, 0.43840923],\n",
       "       [0.72346518, 0.97798951, 0.53849587],\n",
       "       [0.50112046, 0.07205113, 0.26843898],\n",
       "       [0.4998825 , 0.67923   , 0.80373904],\n",
       "       [0.38094113, 0.06593635, 0.2881456 ]])"
      ]
     },
     "execution_count": 38,
     "metadata": {},
     "output_type": "execute_result"
    }
   ],
   "source": [
    "np.random.seed(7)\n",
    "random_array5 = np.random.random((5,3))\n",
    "random_array5"
   ]
  },
  {
   "cell_type": "markdown",
   "id": "75d0789f",
   "metadata": {},
   "source": [
    "## Viewing Arrays and Matrices"
   ]
  },
  {
   "cell_type": "markdown",
   "id": "d7d2bab5",
   "metadata": {},
   "source": [
    "Find unique number in numpy arrays"
   ]
  },
  {
   "cell_type": "code",
   "execution_count": 39,
   "id": "a7e88901",
   "metadata": {},
   "outputs": [
    {
     "data": {
      "text/plain": [
       "array([0, 1, 3, 5, 6, 8, 9])"
      ]
     },
     "execution_count": 39,
     "metadata": {},
     "output_type": "execute_result"
    }
   ],
   "source": [
    "# numpy.unique\n",
    "np.unique(random_array4)"
   ]
  },
  {
   "cell_type": "code",
   "execution_count": 40,
   "id": "2e647be9",
   "metadata": {},
   "outputs": [
    {
     "data": {
      "text/plain": [
       "numpy.ndarray"
      ]
     },
     "execution_count": 40,
     "metadata": {},
     "output_type": "execute_result"
    }
   ],
   "source": [
    "type(np.unique(random_array4))"
   ]
  },
  {
   "cell_type": "code",
   "execution_count": 41,
   "id": "6d8fdfde",
   "metadata": {},
   "outputs": [
    {
     "data": {
      "text/plain": [
       "array([1, 2, 3])"
      ]
     },
     "execution_count": 41,
     "metadata": {},
     "output_type": "execute_result"
    }
   ],
   "source": [
    "a1"
   ]
  },
  {
   "cell_type": "code",
   "execution_count": 42,
   "id": "941f401c",
   "metadata": {},
   "outputs": [
    {
     "data": {
      "text/plain": [
       "array([[1. , 2. , 3.3],\n",
       "       [4. , 5. , 6.5]])"
      ]
     },
     "execution_count": 42,
     "metadata": {},
     "output_type": "execute_result"
    }
   ],
   "source": [
    "a2"
   ]
  },
  {
   "cell_type": "code",
   "execution_count": 43,
   "id": "1f937934",
   "metadata": {},
   "outputs": [
    {
     "data": {
      "text/plain": [
       "array([[[ 1,  2,  3],\n",
       "        [ 4,  5,  6],\n",
       "        [ 7,  8,  9]],\n",
       "\n",
       "       [[10, 11, 12],\n",
       "        [13, 14, 15],\n",
       "        [16, 17, 18]]])"
      ]
     },
     "execution_count": 43,
     "metadata": {},
     "output_type": "execute_result"
    }
   ],
   "source": [
    "a3"
   ]
  },
  {
   "cell_type": "code",
   "execution_count": 44,
   "id": "5a382d94",
   "metadata": {},
   "outputs": [
    {
     "data": {
      "text/plain": [
       "1"
      ]
     },
     "execution_count": 44,
     "metadata": {},
     "output_type": "execute_result"
    }
   ],
   "source": [
    "a1[0]"
   ]
  },
  {
   "cell_type": "code",
   "execution_count": 45,
   "id": "6c08e05a",
   "metadata": {},
   "outputs": [
    {
     "data": {
      "text/plain": [
       "(2, 3)"
      ]
     },
     "execution_count": 45,
     "metadata": {},
     "output_type": "execute_result"
    }
   ],
   "source": [
    "a2.shape"
   ]
  },
  {
   "cell_type": "code",
   "execution_count": 46,
   "id": "3e48b497",
   "metadata": {},
   "outputs": [
    {
     "data": {
      "text/plain": [
       "array([1. , 2. , 3.3])"
      ]
     },
     "execution_count": 46,
     "metadata": {},
     "output_type": "execute_result"
    }
   ],
   "source": [
    "a2[0]"
   ]
  },
  {
   "cell_type": "code",
   "execution_count": 47,
   "id": "f417bb6d",
   "metadata": {},
   "outputs": [
    {
     "data": {
      "text/plain": [
       "(2, 3, 3)"
      ]
     },
     "execution_count": 47,
     "metadata": {},
     "output_type": "execute_result"
    }
   ],
   "source": [
    "a3.shape"
   ]
  },
  {
   "cell_type": "code",
   "execution_count": 48,
   "id": "37bd687d",
   "metadata": {},
   "outputs": [
    {
     "data": {
      "text/plain": [
       "array([[1, 2, 3],\n",
       "       [4, 5, 6],\n",
       "       [7, 8, 9]])"
      ]
     },
     "execution_count": 48,
     "metadata": {},
     "output_type": "execute_result"
    }
   ],
   "source": [
    "a3[0]"
   ]
  },
  {
   "cell_type": "code",
   "execution_count": 49,
   "id": "2acc09ca",
   "metadata": {},
   "outputs": [
    {
     "data": {
      "text/plain": [
       "array([[[ 1,  2,  3],\n",
       "        [ 4,  5,  6],\n",
       "        [ 7,  8,  9]],\n",
       "\n",
       "       [[10, 11, 12],\n",
       "        [13, 14, 15],\n",
       "        [16, 17, 18]]])"
      ]
     },
     "execution_count": 49,
     "metadata": {},
     "output_type": "execute_result"
    }
   ],
   "source": [
    "a3"
   ]
  },
  {
   "cell_type": "code",
   "execution_count": 50,
   "id": "45765a53",
   "metadata": {},
   "outputs": [
    {
     "data": {
      "text/plain": [
       "array([[[ 1,  2],\n",
       "        [ 4,  5]],\n",
       "\n",
       "       [[10, 11],\n",
       "        [13, 14]]])"
      ]
     },
     "execution_count": 50,
     "metadata": {},
     "output_type": "execute_result"
    }
   ],
   "source": [
    "# select first 2 elements of the first 2 rows in each matrix.\n",
    "# Max number of slices must be == num of dimensions\n",
    "a3[:2, :2, :2]"
   ]
  },
  {
   "cell_type": "code",
   "execution_count": 51,
   "id": "800b1563",
   "metadata": {},
   "outputs": [
    {
     "data": {
      "text/plain": [
       "array([[[ 1],\n",
       "        [ 4],\n",
       "        [ 7]],\n",
       "\n",
       "       [[10],\n",
       "        [13],\n",
       "        [16]]])"
      ]
     },
     "execution_count": 51,
     "metadata": {},
     "output_type": "execute_result"
    }
   ],
   "source": [
    "# select first element of each row\n",
    "# for each row of a matrix\n",
    "# for all matrices\n",
    "a3[:2, :3, :1]"
   ]
  },
  {
   "cell_type": "code",
   "execution_count": 52,
   "id": "830b5a06",
   "metadata": {},
   "outputs": [
    {
     "data": {
      "text/plain": [
       "array([[13, 14],\n",
       "       [16, 17]])"
      ]
     },
     "execution_count": 52,
     "metadata": {},
     "output_type": "execute_result"
    }
   ],
   "source": [
    "# select first 2 elements\n",
    "# of rows 2 and 3 of a matrix\n",
    "# for the second matrix only\n",
    "a3[1, 1:, :2]\n",
    "\n",
    "# a3[<index of second matrix>, <index slice for 2nd & 3rd rows>, <index slice for fist 2 elements>]\n",
    "# order of slicing goes from outside inwards (matrix, row, element)"
   ]
  },
  {
   "cell_type": "code",
   "execution_count": 53,
   "id": "4679806c",
   "metadata": {},
   "outputs": [],
   "source": [
    "a4 = np.random.randint(10, size=(2, 3, 4, 5))"
   ]
  },
  {
   "cell_type": "code",
   "execution_count": 54,
   "id": "0d100494",
   "metadata": {},
   "outputs": [
    {
     "data": {
      "text/plain": [
       "array([[[[3, 5, 8, 8, 7],\n",
       "         [5, 0, 0, 2, 8],\n",
       "         [9, 6, 4, 9, 7],\n",
       "         [3, 3, 8, 3, 0]],\n",
       "\n",
       "        [[1, 0, 0, 6, 7],\n",
       "         [7, 9, 3, 0, 7],\n",
       "         [7, 7, 0, 5, 4],\n",
       "         [3, 1, 3, 1, 3]],\n",
       "\n",
       "        [[4, 3, 1, 9, 5],\n",
       "         [9, 1, 2, 3, 2],\n",
       "         [2, 5, 7, 3, 0],\n",
       "         [9, 9, 3, 4, 5]]],\n",
       "\n",
       "\n",
       "       [[[3, 0, 4, 8, 6],\n",
       "         [7, 2, 7, 3, 8],\n",
       "         [6, 6, 5, 6, 5],\n",
       "         [7, 1, 5, 4, 4]],\n",
       "\n",
       "        [[9, 9, 0, 6, 2],\n",
       "         [6, 8, 2, 4, 1],\n",
       "         [6, 1, 5, 1, 6],\n",
       "         [9, 8, 6, 5, 9]],\n",
       "\n",
       "        [[7, 5, 4, 9, 6],\n",
       "         [8, 1, 5, 5, 8],\n",
       "         [3, 7, 7, 9, 4],\n",
       "         [7, 5, 9, 6, 2]]]])"
      ]
     },
     "execution_count": 54,
     "metadata": {},
     "output_type": "execute_result"
    }
   ],
   "source": [
    "a4"
   ]
  },
  {
   "cell_type": "code",
   "execution_count": 55,
   "id": "bab2f5e3",
   "metadata": {},
   "outputs": [
    {
     "data": {
      "text/plain": [
       "((2, 3, 4, 5), 4)"
      ]
     },
     "execution_count": 55,
     "metadata": {},
     "output_type": "execute_result"
    }
   ],
   "source": [
    "a4.shape, a4.ndim"
   ]
  },
  {
   "cell_type": "code",
   "execution_count": 56,
   "id": "91931fac",
   "metadata": {},
   "outputs": [
    {
     "data": {
      "text/plain": [
       "array([9, 9, 0, 6])"
      ]
     },
     "execution_count": 56,
     "metadata": {},
     "output_type": "execute_result"
    }
   ],
   "source": [
    "# select first 4 numbers of the first row, in the second to last matrix of the last matrix in the array\n",
    "a4[1, 1, 0, :4]\n",
    "# or\n",
    "# a4[-1, -2, 0, :4]"
   ]
  },
  {
   "cell_type": "code",
   "execution_count": 57,
   "id": "d78314e2",
   "metadata": {},
   "outputs": [
    {
     "data": {
      "text/plain": [
       "array([[[[3, 5, 8],\n",
       "         [5, 0, 0],\n",
       "         [9, 6, 4],\n",
       "         [3, 3, 8]],\n",
       "\n",
       "        [[1, 0, 0],\n",
       "         [7, 9, 3],\n",
       "         [7, 7, 0],\n",
       "         [3, 1, 3]],\n",
       "\n",
       "        [[4, 3, 1],\n",
       "         [9, 1, 2],\n",
       "         [2, 5, 7],\n",
       "         [9, 9, 3]]],\n",
       "\n",
       "\n",
       "       [[[3, 0, 4],\n",
       "         [7, 2, 7],\n",
       "         [6, 6, 5],\n",
       "         [7, 1, 5]],\n",
       "\n",
       "        [[9, 9, 0],\n",
       "         [6, 8, 2],\n",
       "         [6, 1, 5],\n",
       "         [9, 8, 6]],\n",
       "\n",
       "        [[7, 5, 4],\n",
       "         [8, 1, 5],\n",
       "         [3, 7, 7],\n",
       "         [7, 5, 9]]]])"
      ]
     },
     "execution_count": 57,
     "metadata": {},
     "output_type": "execute_result"
    }
   ],
   "source": [
    "# select the first 3 numbers of the inner most array\n",
    "a4[:, :, :, :3]"
   ]
  },
  {
   "cell_type": "markdown",
   "id": "0fe695cc",
   "metadata": {},
   "source": [
    "## Manipulating Arrays"
   ]
  },
  {
   "cell_type": "markdown",
   "id": "76a4b7f8",
   "metadata": {},
   "source": [
    "[What is Standard Deviation?](https://www.mathsisfun.com/data/standard-deviation.html)"
   ]
  },
  {
   "cell_type": "markdown",
   "id": "61f13001",
   "metadata": {},
   "source": [
    "### Arithmetic"
   ]
  },
  {
   "cell_type": "code",
   "execution_count": 58,
   "id": "70cf6fcd",
   "metadata": {},
   "outputs": [
    {
     "data": {
      "text/plain": [
       "array([1, 2, 3])"
      ]
     },
     "execution_count": 58,
     "metadata": {},
     "output_type": "execute_result"
    }
   ],
   "source": [
    "a1"
   ]
  },
  {
   "cell_type": "code",
   "execution_count": 59,
   "id": "5beecfc1",
   "metadata": {},
   "outputs": [
    {
     "data": {
      "text/plain": [
       "array([1., 1., 1.])"
      ]
     },
     "execution_count": 59,
     "metadata": {},
     "output_type": "execute_result"
    }
   ],
   "source": [
    "ones = np.ones(3)\n",
    "ones"
   ]
  },
  {
   "cell_type": "code",
   "execution_count": 60,
   "id": "2ebd1007",
   "metadata": {},
   "outputs": [
    {
     "data": {
      "text/plain": [
       "array([2., 3., 4.])"
      ]
     },
     "execution_count": 60,
     "metadata": {},
     "output_type": "execute_result"
    }
   ],
   "source": [
    "a1 + ones"
   ]
  },
  {
   "cell_type": "code",
   "execution_count": 61,
   "id": "43dec9e9",
   "metadata": {},
   "outputs": [
    {
     "data": {
      "text/plain": [
       "array([0., 1., 2.])"
      ]
     },
     "execution_count": 61,
     "metadata": {},
     "output_type": "execute_result"
    }
   ],
   "source": [
    "a1 - ones"
   ]
  },
  {
   "cell_type": "code",
   "execution_count": 62,
   "id": "52bcd920",
   "metadata": {},
   "outputs": [
    {
     "data": {
      "text/plain": [
       "array([1., 2., 3.])"
      ]
     },
     "execution_count": 62,
     "metadata": {},
     "output_type": "execute_result"
    }
   ],
   "source": [
    "a1 * ones"
   ]
  },
  {
   "cell_type": "code",
   "execution_count": 63,
   "id": "4c74c239",
   "metadata": {},
   "outputs": [
    {
     "data": {
      "text/plain": [
       "array([1, 2, 3])"
      ]
     },
     "execution_count": 63,
     "metadata": {},
     "output_type": "execute_result"
    }
   ],
   "source": [
    "a1"
   ]
  },
  {
   "cell_type": "code",
   "execution_count": 64,
   "id": "c6edd95a",
   "metadata": {},
   "outputs": [
    {
     "data": {
      "text/plain": [
       "array([[1. , 2. , 3.3],\n",
       "       [4. , 5. , 6.5]])"
      ]
     },
     "execution_count": 64,
     "metadata": {},
     "output_type": "execute_result"
    }
   ],
   "source": [
    "a2"
   ]
  },
  {
   "cell_type": "markdown",
   "id": "64cb2674",
   "metadata": {},
   "source": [
    "NumPy uses a technique called [broadcasting](https://numpy.org/doc/stable/user/basics.broadcasting.html) when performing arithmetic with Vectors. This technique performs the arithmetic operation starting with the smallest array and distributing the calculation accross the larger array.\n",
    "\n",
    "E.g. when multiplying 2 ndarrays, each element in the smallest array is multiplied with **each element of each row** in the larger array, to produce an ndarray that has the same shape as the largest array."
   ]
  },
  {
   "cell_type": "code",
   "execution_count": 65,
   "id": "a87cb210",
   "metadata": {},
   "outputs": [
    {
     "data": {
      "text/plain": [
       "array([[ 1. ,  4. ,  9.9],\n",
       "       [ 4. , 10. , 19.5]])"
      ]
     },
     "execution_count": 65,
     "metadata": {},
     "output_type": "execute_result"
    }
   ],
   "source": [
    "a1 * a2"
   ]
  },
  {
   "cell_type": "markdown",
   "id": "1ee87e79",
   "metadata": {},
   "source": [
    "This means that you must perform the arithmetic on arrays **of the same shape**. Performing rithmetic on array with different shapes will result in a `ValueError`"
   ]
  },
  {
   "cell_type": "code",
   "execution_count": 66,
   "id": "e5d88fc3",
   "metadata": {
    "scrolled": true
   },
   "outputs": [],
   "source": [
    "# uncomment to see the error\n",
    "# a2 * a3"
   ]
  },
  {
   "cell_type": "code",
   "execution_count": 67,
   "id": "0fc2e6eb",
   "metadata": {},
   "outputs": [
    {
     "data": {
      "text/plain": [
       "array([[1. , 2. , 3.3],\n",
       "       [4. , 5. , 6.5]])"
      ]
     },
     "execution_count": 67,
     "metadata": {},
     "output_type": "execute_result"
    }
   ],
   "source": [
    "a2"
   ]
  },
  {
   "cell_type": "code",
   "execution_count": 68,
   "id": "1fa5ba51",
   "metadata": {},
   "outputs": [
    {
     "data": {
      "text/plain": [
       "array([[[ 1,  2,  3],\n",
       "        [ 4,  5,  6],\n",
       "        [ 7,  8,  9]],\n",
       "\n",
       "       [[10, 11, 12],\n",
       "        [13, 14, 15],\n",
       "        [16, 17, 18]]])"
      ]
     },
     "execution_count": 68,
     "metadata": {},
     "output_type": "execute_result"
    }
   ],
   "source": [
    "a3"
   ]
  },
  {
   "cell_type": "markdown",
   "id": "cccf07f9",
   "metadata": {},
   "source": [
    "We can actually reshape a2 so that it matches the shape of a3, which will allow us to perform the arithmetic on the 2 arrays.\n",
    "\n",
    "Broadcasting rules tell us that 2 dimensions are compatible when they are equal or one of them is 1."
   ]
  },
  {
   "cell_type": "code",
   "execution_count": 69,
   "id": "b83f6f32",
   "metadata": {},
   "outputs": [
    {
     "data": {
      "text/plain": [
       "((2, 3), (2, 3, 3))"
      ]
     },
     "execution_count": 69,
     "metadata": {},
     "output_type": "execute_result"
    }
   ],
   "source": [
    "a2.shape, a3.shape"
   ]
  },
  {
   "cell_type": "markdown",
   "id": "10e7ce34",
   "metadata": {},
   "source": [
    "These 2 shapes do not match because a3 has an extra row in each dimension. Therefore we can add an extra dimension to a2."
   ]
  },
  {
   "cell_type": "code",
   "execution_count": 70,
   "id": "4f8eeaf4",
   "metadata": {},
   "outputs": [],
   "source": [
    "a2 = a2.reshape(2, 3, 1)"
   ]
  },
  {
   "cell_type": "code",
   "execution_count": 71,
   "id": "65cf999b",
   "metadata": {},
   "outputs": [
    {
     "data": {
      "text/plain": [
       "(2, 3, 1)"
      ]
     },
     "execution_count": 71,
     "metadata": {},
     "output_type": "execute_result"
    }
   ],
   "source": [
    "a2.shape"
   ]
  },
  {
   "cell_type": "code",
   "execution_count": 72,
   "id": "d5687c57",
   "metadata": {},
   "outputs": [
    {
     "data": {
      "text/plain": [
       "array([[[1. ],\n",
       "        [2. ],\n",
       "        [3.3]],\n",
       "\n",
       "       [[4. ],\n",
       "        [5. ],\n",
       "        [6.5]]])"
      ]
     },
     "execution_count": 72,
     "metadata": {},
     "output_type": "execute_result"
    }
   ],
   "source": [
    "a2"
   ]
  },
  {
   "cell_type": "code",
   "execution_count": 73,
   "id": "a96d8e00",
   "metadata": {},
   "outputs": [
    {
     "data": {
      "text/plain": [
       "array([[[ 1,  2,  3],\n",
       "        [ 4,  5,  6],\n",
       "        [ 7,  8,  9]],\n",
       "\n",
       "       [[10, 11, 12],\n",
       "        [13, 14, 15],\n",
       "        [16, 17, 18]]])"
      ]
     },
     "execution_count": 73,
     "metadata": {},
     "output_type": "execute_result"
    }
   ],
   "source": [
    "a3"
   ]
  },
  {
   "cell_type": "markdown",
   "id": "e0fa39d2",
   "metadata": {},
   "source": [
    "Now we can multiply elements from both arrays"
   ]
  },
  {
   "cell_type": "code",
   "execution_count": 74,
   "id": "1f44ec9b",
   "metadata": {
    "scrolled": true
   },
   "outputs": [
    {
     "data": {
      "text/plain": [
       "array([[[  1. ,   2. ,   3. ],\n",
       "        [  8. ,  10. ,  12. ],\n",
       "        [ 23.1,  26.4,  29.7]],\n",
       "\n",
       "       [[ 40. ,  44. ,  48. ],\n",
       "        [ 65. ,  70. ,  75. ],\n",
       "        [104. , 110.5, 117. ]]])"
      ]
     },
     "execution_count": 74,
     "metadata": {},
     "output_type": "execute_result"
    }
   ],
   "source": [
    "a2 * a3"
   ]
  },
  {
   "cell_type": "code",
   "execution_count": 75,
   "id": "250dce01",
   "metadata": {},
   "outputs": [],
   "source": [
    "# a2: [[[ 1., 1., 1. ],  [ 2., 2.,  2. ],  [ 3.3., 3.3., 3.3  ]], [[ 4.,  4.,  4.  ], [ 5.,  5.,  5.  ], [ 6.5,  6.5,   6.5  ]]]\n",
    "#         *   *   *        *   *    *        *     *     *           *    *    *        *    *    *        *     *      *\n",
    "# a3: [[[ 1,  2,  3  ],  [ 4,  5,   6  ],  [ 7,    8,    9    ]], [[ 10,  11,  12  ], [ 13,  14,  15  ], [ 16,   17,    18   ]]]\n",
    "#         =   =   =        =   =    =        =     =     =           =    =    =        =    =    =        =     =      =\n",
    "# xx: [[[ 1., 2., 3. ],  [ 8.  10., 12. ], [ 23.1, 26.4, 29.7 ]], [[ 40., 44., 48. ], [ 65., 70., 75. ], [ 104., 110.5, 117. ]]]"
   ]
  },
  {
   "cell_type": "markdown",
   "id": "0085469d",
   "metadata": {},
   "source": [
    "----"
   ]
  },
  {
   "cell_type": "markdown",
   "id": "fb6b3cfa",
   "metadata": {},
   "source": [
    "Another example of broadcasting:"
   ]
  },
  {
   "cell_type": "code",
   "execution_count": 76,
   "id": "5cc8641a",
   "metadata": {},
   "outputs": [],
   "source": [
    "list_a = [[1, 2, 3], [2, 3, 4], [4, 5, 6]]\n",
    "list_b = [1, 0 ,2]\n",
    "\n",
    "A = np.array(list_a)\n",
    "B = np.array(list_b)"
   ]
  },
  {
   "cell_type": "code",
   "execution_count": 77,
   "id": "f36e2a9a",
   "metadata": {},
   "outputs": [
    {
     "data": {
      "text/plain": [
       "array([[1, 2, 3],\n",
       "       [2, 3, 4],\n",
       "       [4, 5, 6]])"
      ]
     },
     "execution_count": 77,
     "metadata": {},
     "output_type": "execute_result"
    }
   ],
   "source": [
    "A"
   ]
  },
  {
   "cell_type": "code",
   "execution_count": 78,
   "id": "a4e461b3",
   "metadata": {},
   "outputs": [
    {
     "data": {
      "text/plain": [
       "array([1, 0, 2])"
      ]
     },
     "execution_count": 78,
     "metadata": {},
     "output_type": "execute_result"
    }
   ],
   "source": [
    "B"
   ]
  },
  {
   "cell_type": "code",
   "execution_count": 79,
   "id": "4d90ec8d",
   "metadata": {},
   "outputs": [
    {
     "data": {
      "text/plain": [
       "(3, 3)"
      ]
     },
     "execution_count": 79,
     "metadata": {},
     "output_type": "execute_result"
    }
   ],
   "source": [
    "A.shape"
   ]
  },
  {
   "cell_type": "code",
   "execution_count": 80,
   "id": "0d9396cd",
   "metadata": {},
   "outputs": [
    {
     "data": {
      "text/plain": [
       "(3,)"
      ]
     },
     "execution_count": 80,
     "metadata": {},
     "output_type": "execute_result"
    }
   ],
   "source": [
    "B.shape"
   ]
  },
  {
   "cell_type": "code",
   "execution_count": 81,
   "id": "da371466",
   "metadata": {},
   "outputs": [
    {
     "data": {
      "text/plain": [
       "array([[2, 2, 5],\n",
       "       [3, 3, 6],\n",
       "       [5, 5, 8]])"
      ]
     },
     "execution_count": 81,
     "metadata": {},
     "output_type": "execute_result"
    }
   ],
   "source": [
    "C = A + B\n",
    "C"
   ]
  },
  {
   "cell_type": "markdown",
   "id": "e14f3877",
   "metadata": {},
   "source": [
    "Here, the second ndarray, `B`, actually gets expanded to `[[1, 0, 2], [1, 0, 2], [1, 0, 2]]` behind the scenes so that it matches the shape of `A` (`(3, 3)`).\n",
    "\n",
    "Then each subarray of `B` (`[1, 0, 2]`) is added to its corresponding subarray of `A` to produce an array with a shape that matches `A` (`(3, 3)`)."
   ]
  },
  {
   "cell_type": "code",
   "execution_count": 82,
   "id": "1b2d0cee",
   "metadata": {},
   "outputs": [],
   "source": [
    "# A: [[1, 2, 3], [2, 3, 4], [4, 5, 6]]\n",
    "#      +  +  +    +  +  +    +  +  +\n",
    "# B: [[1, 0, 2], [1, 0, 2], [1, 0, 2]]\n",
    "#      =  =  =    =  =  =    =  =  =\n",
    "# C: [[2, 2, 5], [3, 3, 6], [5, 5, 8]]"
   ]
  },
  {
   "cell_type": "code",
   "execution_count": 83,
   "id": "d55d1b79",
   "metadata": {},
   "outputs": [
    {
     "data": {
      "text/plain": [
       "(3, 3)"
      ]
     },
     "execution_count": 83,
     "metadata": {},
     "output_type": "execute_result"
    }
   ],
   "source": [
    "C.shape"
   ]
  },
  {
   "cell_type": "markdown",
   "id": "03ad357f",
   "metadata": {},
   "source": [
    "----"
   ]
  },
  {
   "cell_type": "code",
   "execution_count": 84,
   "id": "4a96b9d4",
   "metadata": {},
   "outputs": [
    {
     "data": {
      "text/plain": [
       "array([1., 2., 3.])"
      ]
     },
     "execution_count": 84,
     "metadata": {},
     "output_type": "execute_result"
    }
   ],
   "source": [
    "a1 / ones"
   ]
  },
  {
   "cell_type": "code",
   "execution_count": 85,
   "id": "f846c309",
   "metadata": {},
   "outputs": [
    {
     "data": {
      "text/plain": [
       "array([[[1.        , 0.5       , 0.33333333],\n",
       "        [2.        , 1.        , 0.66666667],\n",
       "        [3.3       , 1.65      , 1.1       ]],\n",
       "\n",
       "       [[4.        , 2.        , 1.33333333],\n",
       "        [5.        , 2.5       , 1.66666667],\n",
       "        [6.5       , 3.25      , 2.16666667]]])"
      ]
     },
     "execution_count": 85,
     "metadata": {},
     "output_type": "execute_result"
    }
   ],
   "source": [
    "a2 / a1"
   ]
  },
  {
   "cell_type": "code",
   "execution_count": 86,
   "id": "7cdbb094",
   "metadata": {},
   "outputs": [
    {
     "data": {
      "text/plain": [
       "array([[[1., 0., 0.],\n",
       "        [2., 1., 0.],\n",
       "        [3., 1., 1.]],\n",
       "\n",
       "       [[4., 2., 1.],\n",
       "        [5., 2., 1.],\n",
       "        [6., 3., 2.]]])"
      ]
     },
     "execution_count": 86,
     "metadata": {},
     "output_type": "execute_result"
    }
   ],
   "source": [
    "a2 // a1  # floor division (rounds down)"
   ]
  },
  {
   "cell_type": "code",
   "execution_count": 87,
   "id": "676070a5",
   "metadata": {},
   "outputs": [
    {
     "data": {
      "text/plain": [
       "array([[[ 1.  ],\n",
       "        [ 4.  ],\n",
       "        [10.89]],\n",
       "\n",
       "       [[16.  ],\n",
       "        [25.  ],\n",
       "        [42.25]]])"
      ]
     },
     "execution_count": 87,
     "metadata": {},
     "output_type": "execute_result"
    }
   ],
   "source": [
    "a2 ** 2"
   ]
  },
  {
   "cell_type": "code",
   "execution_count": 88,
   "id": "de290944",
   "metadata": {},
   "outputs": [
    {
     "data": {
      "text/plain": [
       "array([[[ 1.  ],\n",
       "        [ 4.  ],\n",
       "        [10.89]],\n",
       "\n",
       "       [[16.  ],\n",
       "        [25.  ],\n",
       "        [42.25]]])"
      ]
     },
     "execution_count": 88,
     "metadata": {},
     "output_type": "execute_result"
    }
   ],
   "source": [
    "np.square(a2)"
   ]
  },
  {
   "cell_type": "markdown",
   "id": "59185385",
   "metadata": {},
   "source": [
    "For each arithmetic operation in Python, `np` has an equivalent method (e.g. add, subtract, square etc)."
   ]
  },
  {
   "cell_type": "code",
   "execution_count": 89,
   "id": "1bd8d4da",
   "metadata": {},
   "outputs": [
    {
     "data": {
      "text/plain": [
       "array([[[1. ],\n",
       "        [0. ],\n",
       "        [1.3]],\n",
       "\n",
       "       [[0. ],\n",
       "        [1. ],\n",
       "        [0.5]]])"
      ]
     },
     "execution_count": 89,
     "metadata": {},
     "output_type": "execute_result"
    }
   ],
   "source": [
    "# https://numpy.org/doc/stable/reference/generated/numpy.mod.html\n",
    "np.mod(a2, 2)"
   ]
  },
  {
   "cell_type": "code",
   "execution_count": 90,
   "id": "c6b6fb62",
   "metadata": {},
   "outputs": [
    {
     "data": {
      "text/plain": [
       "array([[[  2.71828183],\n",
       "        [  7.3890561 ],\n",
       "        [ 27.11263892]],\n",
       "\n",
       "       [[ 54.59815003],\n",
       "        [148.4131591 ],\n",
       "        [665.14163304]]])"
      ]
     },
     "execution_count": 90,
     "metadata": {},
     "output_type": "execute_result"
    }
   ],
   "source": [
    "np.exp(a2)"
   ]
  },
  {
   "cell_type": "code",
   "execution_count": 91,
   "id": "6bbd5cac",
   "metadata": {},
   "outputs": [
    {
     "data": {
      "text/plain": [
       "array([[[0.        ],\n",
       "        [0.69314718],\n",
       "        [1.19392247]],\n",
       "\n",
       "       [[1.38629436],\n",
       "        [1.60943791],\n",
       "        [1.87180218]]])"
      ]
     },
     "execution_count": 91,
     "metadata": {},
     "output_type": "execute_result"
    }
   ],
   "source": [
    "np.log(a2)"
   ]
  },
  {
   "cell_type": "markdown",
   "id": "32be7d5a",
   "metadata": {},
   "source": [
    "### Aggregation"
   ]
  },
  {
   "cell_type": "markdown",
   "id": "ab0f7e35",
   "metadata": {},
   "source": [
    "Perform an operation on a number of items."
   ]
  },
  {
   "cell_type": "code",
   "execution_count": 92,
   "id": "1d4f7446",
   "metadata": {},
   "outputs": [
    {
     "data": {
      "text/plain": [
       "list"
      ]
     },
     "execution_count": 92,
     "metadata": {},
     "output_type": "execute_result"
    }
   ],
   "source": [
    "listy_list = [1, 2, 3]\n",
    "type(listy_list)"
   ]
  },
  {
   "cell_type": "code",
   "execution_count": 93,
   "id": "00d0911f",
   "metadata": {},
   "outputs": [
    {
     "data": {
      "text/plain": [
       "6"
      ]
     },
     "execution_count": 93,
     "metadata": {},
     "output_type": "execute_result"
    }
   ],
   "source": [
    "sum(listy_list)"
   ]
  },
  {
   "cell_type": "code",
   "execution_count": 94,
   "id": "2b2e6704",
   "metadata": {},
   "outputs": [
    {
     "data": {
      "text/plain": [
       "6"
      ]
     },
     "execution_count": 94,
     "metadata": {},
     "output_type": "execute_result"
    }
   ],
   "source": [
    "np.sum(listy_list)"
   ]
  },
  {
   "cell_type": "markdown",
   "id": "0d7e478b",
   "metadata": {},
   "source": [
    "It is better to use Python's methods (`sum()`) on Python data types, and use NumPy's methods on NumPy arrays (`np.sum()`)."
   ]
  },
  {
   "cell_type": "markdown",
   "id": "3ab61111",
   "metadata": {},
   "source": [
    "NumPy operations are mush faster on numerical calculations. NumPy is optimized for numerical calculations."
   ]
  },
  {
   "cell_type": "code",
   "execution_count": 95,
   "id": "90e1eb15",
   "metadata": {},
   "outputs": [],
   "source": [
    "massive_array = np.random.random(100000)"
   ]
  },
  {
   "cell_type": "code",
   "execution_count": 96,
   "id": "aaab3833",
   "metadata": {},
   "outputs": [
    {
     "data": {
      "text/plain": [
       "100000"
      ]
     },
     "execution_count": 96,
     "metadata": {},
     "output_type": "execute_result"
    }
   ],
   "source": [
    "massive_array.size"
   ]
  },
  {
   "cell_type": "code",
   "execution_count": 97,
   "id": "d5a911d9",
   "metadata": {},
   "outputs": [
    {
     "data": {
      "text/plain": [
       "array([0.82845319, 0.94180927, 0.12814785, 0.23043067, 0.6591584 ,\n",
       "       0.13247399, 0.22407864, 0.57486259, 0.16952372, 0.78223015])"
      ]
     },
     "execution_count": 97,
     "metadata": {},
     "output_type": "execute_result"
    }
   ],
   "source": [
    "massive_array[:10]"
   ]
  },
  {
   "cell_type": "code",
   "execution_count": 98,
   "id": "72d321c2",
   "metadata": {},
   "outputs": [
    {
     "name": "stdout",
     "output_type": "stream",
     "text": [
      "26.2 ms ± 5.51 ms per loop (mean ± std. dev. of 7 runs, 10 loops each)\n",
      "52.4 µs ± 24 µs per loop (mean ± std. dev. of 7 runs, 10000 loops each)\n"
     ]
    }
   ],
   "source": [
    "%timeit sum(massive_array)\n",
    "%timeit np.sum(massive_array)"
   ]
  },
  {
   "cell_type": "markdown",
   "id": "ec255283",
   "metadata": {},
   "source": [
    "## Standard Deviation & Variance"
   ]
  },
  {
   "cell_type": "markdown",
   "id": "40e1ef49",
   "metadata": {},
   "source": [
    "Calculate the standard deviation and variance of numpy arrays"
   ]
  },
  {
   "cell_type": "markdown",
   "id": "956dccd9",
   "metadata": {},
   "source": [
    "Standard Deviation σ: a measure of how spread out numbers are\n",
    "\n",
    "Variance: The average of the squared differences from the Mean. Higher variance is a wider range of numbers, Lower variance is a lower range of numbers.\n",
    "\n",
    "[What is Standard Deviation](https://www.mathsisfun.com/data/standard-deviation.html)"
   ]
  },
  {
   "cell_type": "code",
   "execution_count": 99,
   "id": "a90ea480",
   "metadata": {},
   "outputs": [
    {
     "data": {
      "text/plain": [
       "array([[[1. ],\n",
       "        [2. ],\n",
       "        [3.3]],\n",
       "\n",
       "       [[4. ],\n",
       "        [5. ],\n",
       "        [6.5]]])"
      ]
     },
     "execution_count": 99,
     "metadata": {},
     "output_type": "execute_result"
    }
   ],
   "source": [
    "a2"
   ]
  },
  {
   "cell_type": "code",
   "execution_count": 100,
   "id": "7d017454",
   "metadata": {},
   "outputs": [
    {
     "data": {
      "text/plain": [
       "3.3222222222222224"
      ]
     },
     "execution_count": 100,
     "metadata": {},
     "output_type": "execute_result"
    }
   ],
   "source": [
    "np.var(a2)"
   ]
  },
  {
   "cell_type": "code",
   "execution_count": 101,
   "id": "3cc61f15",
   "metadata": {},
   "outputs": [
    {
     "data": {
      "text/plain": [
       "1.8226964152656422"
      ]
     },
     "execution_count": 101,
     "metadata": {},
     "output_type": "execute_result"
    }
   ],
   "source": [
    "np.std(a2)"
   ]
  },
  {
   "cell_type": "markdown",
   "id": "2d4ffe4e",
   "metadata": {},
   "source": [
    "The Standard Deviation is the square root of the variance"
   ]
  },
  {
   "cell_type": "code",
   "execution_count": 102,
   "id": "ca06732f",
   "metadata": {},
   "outputs": [
    {
     "data": {
      "text/plain": [
       "1.8226964152656422"
      ]
     },
     "execution_count": 102,
     "metadata": {},
     "output_type": "execute_result"
    }
   ],
   "source": [
    "np.sqrt(np.var(a2))"
   ]
  },
  {
   "cell_type": "code",
   "execution_count": 103,
   "id": "314bd720",
   "metadata": {},
   "outputs": [
    {
     "data": {
      "text/plain": [
       "True"
      ]
     },
     "execution_count": 103,
     "metadata": {},
     "output_type": "execute_result"
    }
   ],
   "source": [
    "np.sqrt(np.var(a2)) == np.std(a2)"
   ]
  },
  {
   "cell_type": "markdown",
   "id": "82e1c602",
   "metadata": {},
   "source": [
    "Create lists of numbers with a large spread and small spread"
   ]
  },
  {
   "cell_type": "code",
   "execution_count": 104,
   "id": "9fd6bc1c",
   "metadata": {},
   "outputs": [],
   "source": [
    "higher_variance_array = np.array([1, 100, 200, 300, 4000, 5000])\n",
    "low_variance_array = np.array([2, 4, 6, 8, 10])"
   ]
  },
  {
   "cell_type": "code",
   "execution_count": 105,
   "id": "942c152e",
   "metadata": {},
   "outputs": [
    {
     "data": {
      "text/plain": [
       "(4296133.472222221, 8.0)"
      ]
     },
     "execution_count": 105,
     "metadata": {},
     "output_type": "execute_result"
    }
   ],
   "source": [
    "np.var(higher_variance_array), np.var(low_variance_array)"
   ]
  },
  {
   "cell_type": "code",
   "execution_count": 106,
   "id": "332db992",
   "metadata": {},
   "outputs": [
    {
     "data": {
      "text/plain": [
       "(2072.711623024829, 2.8284271247461903)"
      ]
     },
     "execution_count": 106,
     "metadata": {},
     "output_type": "execute_result"
    }
   ],
   "source": [
    "np.std(higher_variance_array), np.std(low_variance_array)"
   ]
  },
  {
   "cell_type": "markdown",
   "id": "75aeb085",
   "metadata": {},
   "source": [
    "The `high_var_array` numbers are more spread out."
   ]
  },
  {
   "cell_type": "code",
   "execution_count": 107,
   "id": "30643ffa",
   "metadata": {},
   "outputs": [
    {
     "data": {
      "text/plain": [
       "(1600.1666666666667, 6.0)"
      ]
     },
     "execution_count": 107,
     "metadata": {},
     "output_type": "execute_result"
    }
   ],
   "source": [
    "np.mean(higher_variance_array), np.mean(low_variance_array)"
   ]
  },
  {
   "cell_type": "markdown",
   "id": "061237cc",
   "metadata": {},
   "source": [
    "You can visualize the spread of numbers by plotting on a graph"
   ]
  },
  {
   "cell_type": "code",
   "execution_count": 108,
   "id": "fea01d6b",
   "metadata": {},
   "outputs": [
    {
     "data": {
      "image/png": "[encoded data removed]",
      "text/plain": [
       "<Figure size 432x288 with 1 Axes>"
      ]
     },
     "metadata": {
      "needs_background": "light"
     },
     "output_type": "display_data"
    }
   ],
   "source": [
    "%matplotlib inline\n",
    "import matplotlib.pyplot as plt\n",
    "plt.hist(higher_variance_array)\n",
    "plt.show()"
   ]
  },
  {
   "cell_type": "code",
   "execution_count": 109,
   "id": "f0cb98de",
   "metadata": {},
   "outputs": [
    {
     "data": {
      "image/png": "[encoded data removed]",
      "text/plain": [
       "<Figure size 432x288 with 1 Axes>"
      ]
     },
     "metadata": {
      "needs_background": "light"
     },
     "output_type": "display_data"
    }
   ],
   "source": [
    "plt.hist(low_variance_array)\n",
    "plt.show()"
   ]
  },
  {
   "cell_type": "markdown",
   "id": "5ca67a5e",
   "metadata": {},
   "source": [
    "The bar graphs show that the numbers in the `high_variance_array` list are more spread out."
   ]
  },
  {
   "cell_type": "markdown",
   "id": "fe681faa",
   "metadata": {},
   "source": [
    "## Reshape and Transpose"
   ]
  },
  {
   "cell_type": "markdown",
   "id": "ad097a16",
   "metadata": {},
   "source": [
    "To line up your inputs for a Machine Learning model, you need to reshape your data."
   ]
  },
  {
   "cell_type": "code",
   "execution_count": 110,
   "id": "44c976a6",
   "metadata": {},
   "outputs": [
    {
     "data": {
      "text/plain": [
       "array([[1. , 2. , 3.3],\n",
       "       [4. , 5. , 6.5]])"
      ]
     },
     "execution_count": 110,
     "metadata": {},
     "output_type": "execute_result"
    }
   ],
   "source": [
    "num_list = np.array([[1., 2., 3.3], [4., 5., 6.5]])\n",
    "num_list"
   ]
  },
  {
   "cell_type": "code",
   "execution_count": 111,
   "id": "321d7bb2",
   "metadata": {},
   "outputs": [
    {
     "data": {
      "text/plain": [
       "(2, 3)"
      ]
     },
     "execution_count": 111,
     "metadata": {},
     "output_type": "execute_result"
    }
   ],
   "source": [
    "num_list.shape"
   ]
  },
  {
   "cell_type": "code",
   "execution_count": 112,
   "id": "b97a5c77",
   "metadata": {},
   "outputs": [
    {
     "data": {
      "text/plain": [
       "array([[[1. ],\n",
       "        [2. ],\n",
       "        [3.3]],\n",
       "\n",
       "       [[4. ],\n",
       "        [5. ],\n",
       "        [6.5]]])"
      ]
     },
     "execution_count": 112,
     "metadata": {},
     "output_type": "execute_result"
    }
   ],
   "source": [
    "num_list.reshape(2, 3, 1)"
   ]
  },
  {
   "cell_type": "code",
   "execution_count": 113,
   "id": "247e5e51",
   "metadata": {},
   "outputs": [
    {
     "data": {
      "text/plain": [
       "array([[1. , 2. , 3.3],\n",
       "       [4. , 5. , 6.5]])"
      ]
     },
     "execution_count": 113,
     "metadata": {},
     "output_type": "execute_result"
    }
   ],
   "source": [
    "num_list"
   ]
  },
  {
   "cell_type": "code",
   "execution_count": 114,
   "id": "29f5cb1d",
   "metadata": {},
   "outputs": [
    {
     "data": {
      "text/plain": [
       "(2, 3)"
      ]
     },
     "execution_count": 114,
     "metadata": {},
     "output_type": "execute_result"
    }
   ],
   "source": [
    "num_list.shape"
   ]
  },
  {
   "cell_type": "markdown",
   "id": "c860b428",
   "metadata": {},
   "source": [
    "You need to reassign!"
   ]
  },
  {
   "cell_type": "code",
   "execution_count": 115,
   "id": "5ceff2d8",
   "metadata": {},
   "outputs": [
    {
     "data": {
      "text/plain": [
       "array([[[1. ],\n",
       "        [2. ],\n",
       "        [3.3]],\n",
       "\n",
       "       [[4. ],\n",
       "        [5. ],\n",
       "        [6.5]]])"
      ]
     },
     "execution_count": 115,
     "metadata": {},
     "output_type": "execute_result"
    }
   ],
   "source": [
    "num_list_reshape = num_list.reshape(2, 3, 1)\n",
    "num_list_reshape"
   ]
  },
  {
   "cell_type": "code",
   "execution_count": 116,
   "id": "5378e09a",
   "metadata": {},
   "outputs": [
    {
     "data": {
      "text/plain": [
       "(2, 3, 1)"
      ]
     },
     "execution_count": 116,
     "metadata": {},
     "output_type": "execute_result"
    }
   ],
   "source": [
    "num_list_reshape.shape"
   ]
  },
  {
   "cell_type": "markdown",
   "id": "b741ea1c",
   "metadata": {},
   "source": [
    "You need to make sure that the data you are trying to find patterns in with ML models needs to be the same shape. This is where reshaping is used."
   ]
  },
  {
   "cell_type": "markdown",
   "id": "c6ce193d",
   "metadata": {},
   "source": [
    "Transposing the array switches the axis of the data. E.g. a shape of (2, 3) will become (3, 2)."
   ]
  },
  {
   "cell_type": "code",
   "execution_count": 117,
   "id": "54cbb8dc",
   "metadata": {},
   "outputs": [
    {
     "data": {
      "text/plain": [
       "array([[1. , 2. , 3.3],\n",
       "       [4. , 5. , 6.5]])"
      ]
     },
     "execution_count": 117,
     "metadata": {},
     "output_type": "execute_result"
    }
   ],
   "source": [
    "num_list"
   ]
  },
  {
   "cell_type": "code",
   "execution_count": 118,
   "id": "ebcb9c27",
   "metadata": {},
   "outputs": [
    {
     "data": {
      "text/plain": [
       "(2, 3)"
      ]
     },
     "execution_count": 118,
     "metadata": {},
     "output_type": "execute_result"
    }
   ],
   "source": [
    "num_list.shape"
   ]
  },
  {
   "cell_type": "code",
   "execution_count": 119,
   "id": "7d67d9df",
   "metadata": {},
   "outputs": [
    {
     "data": {
      "text/plain": [
       "array([[1. , 4. ],\n",
       "       [2. , 5. ],\n",
       "       [3.3, 6.5]])"
      ]
     },
     "execution_count": 119,
     "metadata": {},
     "output_type": "execute_result"
    }
   ],
   "source": [
    "num_list.T"
   ]
  },
  {
   "cell_type": "code",
   "execution_count": 120,
   "id": "08fd8aad",
   "metadata": {},
   "outputs": [],
   "source": [
    "num_list_transposed = num_list.T"
   ]
  },
  {
   "cell_type": "code",
   "execution_count": 121,
   "id": "1e57a9d3",
   "metadata": {},
   "outputs": [
    {
     "data": {
      "text/plain": [
       "array([[1. , 4. ],\n",
       "       [2. , 5. ],\n",
       "       [3.3, 6.5]])"
      ]
     },
     "execution_count": 121,
     "metadata": {},
     "output_type": "execute_result"
    }
   ],
   "source": [
    "num_list_transposed"
   ]
  },
  {
   "cell_type": "code",
   "execution_count": 122,
   "id": "4339af2e",
   "metadata": {},
   "outputs": [
    {
     "data": {
      "text/plain": [
       "(3, 2)"
      ]
     },
     "execution_count": 122,
     "metadata": {},
     "output_type": "execute_result"
    }
   ],
   "source": [
    "num_list_transposed.shape"
   ]
  },
  {
   "cell_type": "markdown",
   "id": "3173aa55",
   "metadata": {},
   "source": [
    "## Dot Product vs Element Wise"
   ]
  },
  {
   "cell_type": "markdown",
   "id": "d306e871",
   "metadata": {},
   "source": [
    "[Matrix Multiplication Explained](https://www.mathsisfun.com/algebra/matrix-multiplying.html)"
   ]
  },
  {
   "cell_type": "markdown",
   "id": "345e8b83",
   "metadata": {},
   "source": [
    "### Dot Product"
   ]
  },
  {
   "cell_type": "markdown",
   "id": "a6c45ccb",
   "metadata": {},
   "source": [
    "[Documentation](https://numpy.org/doc/stable/reference/generated/numpy.dot.html)"
   ]
  },
  {
   "cell_type": "code",
   "execution_count": 123,
   "id": "358ec1b7",
   "metadata": {},
   "outputs": [],
   "source": [
    "np.random.seed(0)\n",
    "\n",
    "mat_1 = np.random.randint(10, size=(5, 3))\n",
    "mat_2 = np.random.randint(10, size=(5, 3))"
   ]
  },
  {
   "cell_type": "code",
   "execution_count": 124,
   "id": "e309f1da",
   "metadata": {},
   "outputs": [
    {
     "data": {
      "text/plain": [
       "array([[5, 0, 3],\n",
       "       [3, 7, 9],\n",
       "       [3, 5, 2],\n",
       "       [4, 7, 6],\n",
       "       [8, 8, 1]])"
      ]
     },
     "execution_count": 124,
     "metadata": {},
     "output_type": "execute_result"
    }
   ],
   "source": [
    "mat_1"
   ]
  },
  {
   "cell_type": "code",
   "execution_count": 125,
   "id": "7867589f",
   "metadata": {},
   "outputs": [
    {
     "data": {
      "text/plain": [
       "(5, 3)"
      ]
     },
     "execution_count": 125,
     "metadata": {},
     "output_type": "execute_result"
    }
   ],
   "source": [
    "mat_1.shape"
   ]
  },
  {
   "cell_type": "code",
   "execution_count": 126,
   "id": "96552102",
   "metadata": {},
   "outputs": [
    {
     "data": {
      "text/plain": [
       "array([[6, 7, 7],\n",
       "       [8, 1, 5],\n",
       "       [9, 8, 9],\n",
       "       [4, 3, 0],\n",
       "       [3, 5, 0]])"
      ]
     },
     "execution_count": 126,
     "metadata": {},
     "output_type": "execute_result"
    }
   ],
   "source": [
    "mat_2"
   ]
  },
  {
   "cell_type": "code",
   "execution_count": 127,
   "id": "c68407a8",
   "metadata": {},
   "outputs": [
    {
     "data": {
      "text/plain": [
       "(5, 3)"
      ]
     },
     "execution_count": 127,
     "metadata": {},
     "output_type": "execute_result"
    }
   ],
   "source": [
    "mat_2.shape"
   ]
  },
  {
   "cell_type": "code",
   "execution_count": 128,
   "id": "d2508955",
   "metadata": {},
   "outputs": [
    {
     "data": {
      "text/plain": [
       "array([[30,  0, 21],\n",
       "       [24,  7, 45],\n",
       "       [27, 40, 18],\n",
       "       [16, 21,  0],\n",
       "       [24, 40,  0]])"
      ]
     },
     "execution_count": 128,
     "metadata": {},
     "output_type": "execute_result"
    }
   ],
   "source": [
    "# Element-wise multiplication (Hadamard product)\n",
    "# Multiply element 1 with element 1 of 2 matricies and so on\n",
    "mat_1 * mat_2"
   ]
  },
  {
   "cell_type": "markdown",
   "id": "ca8f696b",
   "metadata": {},
   "source": [
    "Calculate the Dot Product"
   ]
  },
  {
   "cell_type": "code",
   "execution_count": 129,
   "id": "2d72296e",
   "metadata": {},
   "outputs": [],
   "source": [
    "# np.dot(mat_1, mat_2)\n",
    "# ValueError: shapes (5,3) and (5,3) not aligned: 3 (dim 1) != 5 (dim 0)"
   ]
  },
  {
   "cell_type": "markdown",
   "id": "9629c3e7",
   "metadata": {},
   "source": [
    "![Dot Product vs Element Wise](./dot-element-wise.png)"
   ]
  },
  {
   "cell_type": "markdown",
   "id": "0c5f4b52",
   "metadata": {},
   "source": [
    "![Dot Product](./dot-product.png)"
   ]
  },
  {
   "cell_type": "markdown",
   "id": "433fc9d3",
   "metadata": {},
   "source": [
    "The Dot Product calculates the multiplication (product) on the row of one matrix against the column of another matrix."
   ]
  },
  {
   "cell_type": "markdown",
   "id": "ce033d71",
   "metadata": {},
   "source": [
    "Calculating the Dot Product has a few rules:\n",
    "\n",
    "The numbers on the **inside** when putting the shapes of 2 matrices side by side must match (The second number of matrix 1's shape and the 1st number of matrix 2's shape).\n",
    "\n",
    "E.g. (3, **3**) (**3**, 2)"
   ]
  },
  {
   "cell_type": "markdown",
   "id": "460b8ffd",
   "metadata": {},
   "source": [
    "The resulting matrix's shape is the same as the **outside** numbers when putting the shapes of 2 matrices side by side (the first number of matix 1's shape and 2nd number of matrix 2's shape).\n",
    "\n",
    "E.g. The Dot Product of (**3**, 3) and (3, **2**) is (**3**, **2**)"
   ]
  },
  {
   "cell_type": "code",
   "execution_count": 130,
   "id": "1ff29db3",
   "metadata": {},
   "outputs": [
    {
     "data": {
      "text/plain": [
       "array([[5, 0, 3],\n",
       "       [3, 7, 9],\n",
       "       [3, 5, 2]])"
      ]
     },
     "execution_count": 130,
     "metadata": {},
     "output_type": "execute_result"
    }
   ],
   "source": [
    "matrix_a = np.array([[5, 0, 3], [3, 7, 9], [3, 5, 2]])\n",
    "matrix_a"
   ]
  },
  {
   "cell_type": "code",
   "execution_count": 131,
   "id": "a392d3b4",
   "metadata": {},
   "outputs": [
    {
     "data": {
      "text/plain": [
       "array([[4, 7],\n",
       "       [6, 8],\n",
       "       [8, 1]])"
      ]
     },
     "execution_count": 131,
     "metadata": {},
     "output_type": "execute_result"
    }
   ],
   "source": [
    "matrix_b = np.array([[4, 7], [6, 8], [8, 1]])\n",
    "matrix_b"
   ]
  },
  {
   "cell_type": "code",
   "execution_count": 132,
   "id": "3c8866e5",
   "metadata": {},
   "outputs": [
    {
     "data": {
      "text/plain": [
       "((3, 3), (3, 2))"
      ]
     },
     "execution_count": 132,
     "metadata": {},
     "output_type": "execute_result"
    }
   ],
   "source": [
    "matrix_a.shape, matrix_b.shape"
   ]
  },
  {
   "cell_type": "code",
   "execution_count": 133,
   "id": "60ad193c",
   "metadata": {},
   "outputs": [
    {
     "data": {
      "text/plain": [
       "array([[ 44,  38],\n",
       "       [126,  86],\n",
       "       [ 58,  63]])"
      ]
     },
     "execution_count": 133,
     "metadata": {},
     "output_type": "execute_result"
    }
   ],
   "source": [
    "matrix_dot_product = np.dot(matrix_a, matrix_b)\n",
    "matrix_dot_product"
   ]
  },
  {
   "cell_type": "code",
   "execution_count": 134,
   "id": "7b82385f",
   "metadata": {},
   "outputs": [
    {
     "data": {
      "text/plain": [
       "(3, 2)"
      ]
     },
     "execution_count": 134,
     "metadata": {},
     "output_type": "execute_result"
    }
   ],
   "source": [
    "matrix_dot_product.shape"
   ]
  },
  {
   "cell_type": "markdown",
   "id": "f17706fc",
   "metadata": {},
   "source": [
    "[Matrix Multiplication](https://www.matrixmultiplication.xyz)"
   ]
  },
  {
   "cell_type": "markdown",
   "id": "6f8c362e",
   "metadata": {},
   "source": [
    "You can transpose shapes to make it fit the requirements for matrix multiplication."
   ]
  },
  {
   "cell_type": "code",
   "execution_count": 135,
   "id": "9d326f6a",
   "metadata": {},
   "outputs": [],
   "source": [
    "# np.dot(mat_1, mat_2)\n",
    "# ValueError: shapes (5,3) and (5,3) not aligned: 3 (dim 1) != 5 (dim 0)"
   ]
  },
  {
   "cell_type": "code",
   "execution_count": 136,
   "id": "42a32160",
   "metadata": {},
   "outputs": [
    {
     "data": {
      "text/plain": [
       "((5, 3), (5, 3))"
      ]
     },
     "execution_count": 136,
     "metadata": {},
     "output_type": "execute_result"
    }
   ],
   "source": [
    "mat_1.shape, mat_2.shape"
   ]
  },
  {
   "cell_type": "markdown",
   "id": "6285c628",
   "metadata": {},
   "source": [
    "`mat_1` and `mat_2` currently have the same shape, so they do not satisfy the requirements for matrix multiplication.\n",
    "\n",
    "We can transpose the shape of `mat_2` so the shape is reversed to fir the requirements."
   ]
  },
  {
   "cell_type": "code",
   "execution_count": 137,
   "id": "9b06c854",
   "metadata": {},
   "outputs": [
    {
     "data": {
      "text/plain": [
       "(3, 5)"
      ]
     },
     "execution_count": 137,
     "metadata": {},
     "output_type": "execute_result"
    }
   ],
   "source": [
    "mat_2.T.shape"
   ]
  },
  {
   "cell_type": "code",
   "execution_count": 138,
   "id": "6b70cc88",
   "metadata": {},
   "outputs": [
    {
     "data": {
      "text/plain": [
       "array([[ 51,  55,  72,  20,  15],\n",
       "       [130,  76, 164,  33,  44],\n",
       "       [ 67,  39,  85,  27,  34],\n",
       "       [115,  69, 146,  37,  47],\n",
       "       [111,  77, 145,  56,  64]])"
      ]
     },
     "execution_count": 138,
     "metadata": {},
     "output_type": "execute_result"
    }
   ],
   "source": [
    "mat_3 = np.dot(mat_1, mat_2.T)\n",
    "mat_3"
   ]
  },
  {
   "cell_type": "code",
   "execution_count": 139,
   "id": "390a29da",
   "metadata": {},
   "outputs": [
    {
     "data": {
      "text/plain": [
       "(5, 5)"
      ]
     },
     "execution_count": 139,
     "metadata": {},
     "output_type": "execute_result"
    }
   ],
   "source": [
    "mat_3.shape"
   ]
  },
  {
   "cell_type": "markdown",
   "id": "63c04a56",
   "metadata": {},
   "source": [
    "## Practice: Nut Butter Store Sales"
   ]
  },
  {
   "cell_type": "markdown",
   "id": "e5be774a",
   "metadata": {},
   "source": [
    "Calculate the total weekly sales for different types of Nut Butter, when given the price of each nut butter and the total number of sales of each butter per day."
   ]
  },
  {
   "cell_type": "code",
   "execution_count": 140,
   "id": "0137ae86",
   "metadata": {},
   "outputs": [],
   "source": [
    "import pandas as pd"
   ]
  },
  {
   "cell_type": "markdown",
   "id": "c3830959",
   "metadata": {},
   "source": [
    "Load the butter prices"
   ]
  },
  {
   "cell_type": "code",
   "execution_count": 228,
   "id": "fb0f390a",
   "metadata": {},
   "outputs": [],
   "source": [
    "prices_data = pd.read_csv('./nut-butter-prices.csv')"
   ]
  },
  {
   "cell_type": "code",
   "execution_count": 229,
   "id": "6ada1028",
   "metadata": {
    "scrolled": true
   },
   "outputs": [
    {
     "data": {
      "text/html": [
       "<div>\n",
       "<style scoped>\n",
       "    .dataframe tbody tr th:only-of-type {\n",
       "        vertical-align: middle;\n",
       "    }\n",
       "\n",
       "    .dataframe tbody tr th {\n",
       "        vertical-align: top;\n",
       "    }\n",
       "\n",
       "    .dataframe thead th {\n",
       "        text-align: right;\n",
       "    }\n",
       "</style>\n",
       "<table border=\"1\" class=\"dataframe\">\n",
       "  <thead>\n",
       "    <tr style=\"text-align: right;\">\n",
       "      <th></th>\n",
       "      <th>Almond Butter</th>\n",
       "      <th>Peanut Butter</th>\n",
       "      <th>Cashew Butter</th>\n",
       "    </tr>\n",
       "  </thead>\n",
       "  <tbody>\n",
       "    <tr>\n",
       "      <th>0</th>\n",
       "      <td>10</td>\n",
       "      <td>8</td>\n",
       "      <td>12</td>\n",
       "    </tr>\n",
       "  </tbody>\n",
       "</table>\n",
       "</div>"
      ],
      "text/plain": [
       "   Almond Butter  Peanut Butter  Cashew Butter\n",
       "0             10              8             12"
      ]
     },
     "execution_count": 229,
     "metadata": {},
     "output_type": "execute_result"
    }
   ],
   "source": [
    "prices_data"
   ]
  },
  {
   "cell_type": "markdown",
   "id": "2eadcdba",
   "metadata": {},
   "source": [
    "Load the sales"
   ]
  },
  {
   "cell_type": "code",
   "execution_count": 230,
   "id": "fedea61e",
   "metadata": {},
   "outputs": [],
   "source": [
    "sales_data = pd.read_csv('./nut-butter-sales.csv', index_col=0)"
   ]
  },
  {
   "cell_type": "code",
   "execution_count": 231,
   "id": "d4725bc5",
   "metadata": {},
   "outputs": [
    {
     "data": {
      "text/html": [
       "<div>\n",
       "<style scoped>\n",
       "    .dataframe tbody tr th:only-of-type {\n",
       "        vertical-align: middle;\n",
       "    }\n",
       "\n",
       "    .dataframe tbody tr th {\n",
       "        vertical-align: top;\n",
       "    }\n",
       "\n",
       "    .dataframe thead th {\n",
       "        text-align: right;\n",
       "    }\n",
       "</style>\n",
       "<table border=\"1\" class=\"dataframe\">\n",
       "  <thead>\n",
       "    <tr style=\"text-align: right;\">\n",
       "      <th></th>\n",
       "      <th>Almond Butter</th>\n",
       "      <th>Peanut Butter</th>\n",
       "      <th>Cashew Butter</th>\n",
       "    </tr>\n",
       "  </thead>\n",
       "  <tbody>\n",
       "    <tr>\n",
       "      <th>Monday</th>\n",
       "      <td>2</td>\n",
       "      <td>7</td>\n",
       "      <td>1</td>\n",
       "    </tr>\n",
       "    <tr>\n",
       "      <th>Tuesday</th>\n",
       "      <td>9</td>\n",
       "      <td>4</td>\n",
       "      <td>16</td>\n",
       "    </tr>\n",
       "    <tr>\n",
       "      <th>Wednesday</th>\n",
       "      <td>11</td>\n",
       "      <td>14</td>\n",
       "      <td>18</td>\n",
       "    </tr>\n",
       "    <tr>\n",
       "      <th>Thursday</th>\n",
       "      <td>12</td>\n",
       "      <td>13</td>\n",
       "      <td>16</td>\n",
       "    </tr>\n",
       "    <tr>\n",
       "      <th>Friday</th>\n",
       "      <td>15</td>\n",
       "      <td>18</td>\n",
       "      <td>9</td>\n",
       "    </tr>\n",
       "  </tbody>\n",
       "</table>\n",
       "</div>"
      ],
      "text/plain": [
       "           Almond Butter  Peanut Butter  Cashew Butter\n",
       "Monday                 2              7              1\n",
       "Tuesday                9              4             16\n",
       "Wednesday             11             14             18\n",
       "Thursday              12             13             16\n",
       "Friday                15             18              9"
      ]
     },
     "execution_count": 231,
     "metadata": {},
     "output_type": "execute_result"
    }
   ],
   "source": [
    "sales_data"
   ]
  },
  {
   "cell_type": "markdown",
   "id": "599e6b33",
   "metadata": {},
   "source": [
    "Create a NumPy array from the prices data"
   ]
  },
  {
   "cell_type": "code",
   "execution_count": 232,
   "id": "acb09bd2",
   "metadata": {},
   "outputs": [],
   "source": [
    "prices = np.array(prices_data)"
   ]
  },
  {
   "cell_type": "code",
   "execution_count": 233,
   "id": "5f4938aa",
   "metadata": {},
   "outputs": [
    {
     "data": {
      "text/plain": [
       "array([[10,  8, 12]])"
      ]
     },
     "execution_count": 233,
     "metadata": {},
     "output_type": "execute_result"
    }
   ],
   "source": [
    "prices"
   ]
  },
  {
   "cell_type": "markdown",
   "id": "e8df75f6",
   "metadata": {},
   "source": [
    "Create a NumPy array from the sales data"
   ]
  },
  {
   "cell_type": "code",
   "execution_count": 234,
   "id": "261ccf52",
   "metadata": {},
   "outputs": [],
   "source": [
    "sales = np.array(sales_data)"
   ]
  },
  {
   "cell_type": "code",
   "execution_count": 235,
   "id": "479dc98f",
   "metadata": {},
   "outputs": [
    {
     "data": {
      "text/plain": [
       "array([[ 2,  7,  1],\n",
       "       [ 9,  4, 16],\n",
       "       [11, 14, 18],\n",
       "       [12, 13, 16],\n",
       "       [15, 18,  9]])"
      ]
     },
     "execution_count": 235,
     "metadata": {},
     "output_type": "execute_result"
    }
   ],
   "source": [
    "sales"
   ]
  },
  {
   "cell_type": "code",
   "execution_count": 236,
   "id": "baa36372",
   "metadata": {},
   "outputs": [
    {
     "data": {
      "text/plain": [
       "((1, 3), (5, 3))"
      ]
     },
     "execution_count": 236,
     "metadata": {},
     "output_type": "execute_result"
    }
   ],
   "source": [
    "prices.shape, sales.shape"
   ]
  },
  {
   "cell_type": "markdown",
   "id": "5ae6f789",
   "metadata": {},
   "source": [
    "Transpose the sales array so its shape allows for matrix multiplication, so we can calculate the Dot Product."
   ]
  },
  {
   "cell_type": "code",
   "execution_count": 237,
   "id": "40f77e5b",
   "metadata": {},
   "outputs": [
    {
     "data": {
      "text/plain": [
       "array([[ 2,  9, 11, 12, 15],\n",
       "       [ 7,  4, 14, 13, 18],\n",
       "       [ 1, 16, 18, 16,  9]])"
      ]
     },
     "execution_count": 237,
     "metadata": {},
     "output_type": "execute_result"
    }
   ],
   "source": [
    "sales.T"
   ]
  },
  {
   "cell_type": "code",
   "execution_count": 238,
   "id": "bacc103b",
   "metadata": {},
   "outputs": [
    {
     "data": {
      "text/plain": [
       "((1, 3), (3, 5))"
      ]
     },
     "execution_count": 238,
     "metadata": {},
     "output_type": "execute_result"
    }
   ],
   "source": [
    "prices.shape, sales.T.shape"
   ]
  },
  {
   "cell_type": "markdown",
   "id": "230e29cd",
   "metadata": {},
   "source": [
    "Calculate the Dot Product of prices & sales"
   ]
  },
  {
   "cell_type": "code",
   "execution_count": 239,
   "id": "ac9e443b",
   "metadata": {},
   "outputs": [],
   "source": [
    "total_sales = prices.dot(sales.T)"
   ]
  },
  {
   "cell_type": "code",
   "execution_count": 240,
   "id": "c3b45241",
   "metadata": {},
   "outputs": [
    {
     "data": {
      "text/plain": [
       "array([[ 88, 314, 438, 416, 402]])"
      ]
     },
     "execution_count": 240,
     "metadata": {},
     "output_type": "execute_result"
    }
   ],
   "source": [
    "total_sales"
   ]
  },
  {
   "cell_type": "code",
   "execution_count": 250,
   "id": "96c9f6b6",
   "metadata": {},
   "outputs": [
    {
     "data": {
      "text/plain": [
       "(1, 5)"
      ]
     },
     "execution_count": 250,
     "metadata": {},
     "output_type": "execute_result"
    }
   ],
   "source": [
    "total_sales.shape"
   ]
  },
  {
   "cell_type": "markdown",
   "id": "b03cd857",
   "metadata": {},
   "source": [
    "Create a DataFrame to hold the total weekly sales"
   ]
  },
  {
   "cell_type": "code",
   "execution_count": 243,
   "id": "2769b5c3",
   "metadata": {},
   "outputs": [],
   "source": [
    "total_sales_data = pd.DataFrame(total_sales, columns=[\"Monday\", \"Tuesday\", \"Wednesday\", \"Thursday\", \"Friday\"])"
   ]
  },
  {
   "cell_type": "code",
   "execution_count": 244,
   "id": "4650d37e",
   "metadata": {},
   "outputs": [
    {
     "data": {
      "text/html": [
       "<div>\n",
       "<style scoped>\n",
       "    .dataframe tbody tr th:only-of-type {\n",
       "        vertical-align: middle;\n",
       "    }\n",
       "\n",
       "    .dataframe tbody tr th {\n",
       "        vertical-align: top;\n",
       "    }\n",
       "\n",
       "    .dataframe thead th {\n",
       "        text-align: right;\n",
       "    }\n",
       "</style>\n",
       "<table border=\"1\" class=\"dataframe\">\n",
       "  <thead>\n",
       "    <tr style=\"text-align: right;\">\n",
       "      <th></th>\n",
       "      <th>Monday</th>\n",
       "      <th>Tuesday</th>\n",
       "      <th>Wednesday</th>\n",
       "      <th>Thursday</th>\n",
       "      <th>Friday</th>\n",
       "    </tr>\n",
       "  </thead>\n",
       "  <tbody>\n",
       "    <tr>\n",
       "      <th>0</th>\n",
       "      <td>88</td>\n",
       "      <td>314</td>\n",
       "      <td>438</td>\n",
       "      <td>416</td>\n",
       "      <td>402</td>\n",
       "    </tr>\n",
       "  </tbody>\n",
       "</table>\n",
       "</div>"
      ],
      "text/plain": [
       "   Monday  Tuesday  Wednesday  Thursday  Friday\n",
       "0      88      314        438       416     402"
      ]
     },
     "execution_count": 244,
     "metadata": {},
     "output_type": "execute_result"
    }
   ],
   "source": [
    "total_sales_data"
   ]
  },
  {
   "cell_type": "code",
   "execution_count": 245,
   "id": "5959e82d",
   "metadata": {},
   "outputs": [
    {
     "data": {
      "text/plain": [
       "(1, 5)"
      ]
     },
     "execution_count": 245,
     "metadata": {},
     "output_type": "execute_result"
    }
   ],
   "source": [
    "total_sales_data.shape"
   ]
  },
  {
   "cell_type": "markdown",
   "id": "ea0e7c84",
   "metadata": {},
   "source": [
    "Add the total weekly sales to the existing sales data DataFrame. We need to transpose the total sales so it fits with the existing Data Frame (convert it from 1 row, 5 columns to 5 rows, 1 column)."
   ]
  },
  {
   "cell_type": "code",
   "execution_count": 251,
   "id": "52800ad6",
   "metadata": {},
   "outputs": [
    {
     "data": {
      "text/plain": [
       "(5, 4)"
      ]
     },
     "execution_count": 251,
     "metadata": {},
     "output_type": "execute_result"
    }
   ],
   "source": [
    "sales_data.shape"
   ]
  },
  {
   "cell_type": "code",
   "execution_count": 252,
   "id": "7e459fa6",
   "metadata": {},
   "outputs": [
    {
     "data": {
      "text/plain": [
       "(5, 1)"
      ]
     },
     "execution_count": 252,
     "metadata": {},
     "output_type": "execute_result"
    }
   ],
   "source": [
    "total_sales.T.shape"
   ]
  },
  {
   "cell_type": "code",
   "execution_count": 253,
   "id": "6ea87132",
   "metadata": {},
   "outputs": [],
   "source": [
    "sales_data[\"Total (£)\"] = total_sales_data.T"
   ]
  },
  {
   "cell_type": "code",
   "execution_count": 254,
   "id": "903e53bd",
   "metadata": {},
   "outputs": [
    {
     "data": {
      "text/html": [
       "<div>\n",
       "<style scoped>\n",
       "    .dataframe tbody tr th:only-of-type {\n",
       "        vertical-align: middle;\n",
       "    }\n",
       "\n",
       "    .dataframe tbody tr th {\n",
       "        vertical-align: top;\n",
       "    }\n",
       "\n",
       "    .dataframe thead th {\n",
       "        text-align: right;\n",
       "    }\n",
       "</style>\n",
       "<table border=\"1\" class=\"dataframe\">\n",
       "  <thead>\n",
       "    <tr style=\"text-align: right;\">\n",
       "      <th></th>\n",
       "      <th>Almond Butter</th>\n",
       "      <th>Peanut Butter</th>\n",
       "      <th>Cashew Butter</th>\n",
       "      <th>Total (£)</th>\n",
       "    </tr>\n",
       "  </thead>\n",
       "  <tbody>\n",
       "    <tr>\n",
       "      <th>Monday</th>\n",
       "      <td>2</td>\n",
       "      <td>7</td>\n",
       "      <td>1</td>\n",
       "      <td>88</td>\n",
       "    </tr>\n",
       "    <tr>\n",
       "      <th>Tuesday</th>\n",
       "      <td>9</td>\n",
       "      <td>4</td>\n",
       "      <td>16</td>\n",
       "      <td>314</td>\n",
       "    </tr>\n",
       "    <tr>\n",
       "      <th>Wednesday</th>\n",
       "      <td>11</td>\n",
       "      <td>14</td>\n",
       "      <td>18</td>\n",
       "      <td>438</td>\n",
       "    </tr>\n",
       "    <tr>\n",
       "      <th>Thursday</th>\n",
       "      <td>12</td>\n",
       "      <td>13</td>\n",
       "      <td>16</td>\n",
       "      <td>416</td>\n",
       "    </tr>\n",
       "    <tr>\n",
       "      <th>Friday</th>\n",
       "      <td>15</td>\n",
       "      <td>18</td>\n",
       "      <td>9</td>\n",
       "      <td>402</td>\n",
       "    </tr>\n",
       "  </tbody>\n",
       "</table>\n",
       "</div>"
      ],
      "text/plain": [
       "           Almond Butter  Peanut Butter  Cashew Butter  Total (£)\n",
       "Monday                 2              7              1         88\n",
       "Tuesday                9              4             16        314\n",
       "Wednesday             11             14             18        438\n",
       "Thursday              12             13             16        416\n",
       "Friday                15             18              9        402"
      ]
     },
     "execution_count": 254,
     "metadata": {},
     "output_type": "execute_result"
    }
   ],
   "source": [
    "sales_data"
   ]
  },
  {
   "cell_type": "markdown",
   "id": "3200f43a",
   "metadata": {},
   "source": [
    "## Comparison Operators"
   ]
  },
  {
   "cell_type": "markdown",
   "id": "563dba72",
   "metadata": {},
   "source": [
    "[NumPy Logic Functions](https://numpy.org/doc/stable/reference/routines.logic.html#logic-functions)"
   ]
  },
  {
   "cell_type": "code",
   "execution_count": 255,
   "id": "03ebf2fe",
   "metadata": {},
   "outputs": [
    {
     "data": {
      "text/plain": [
       "array([1, 2, 3])"
      ]
     },
     "execution_count": 255,
     "metadata": {},
     "output_type": "execute_result"
    }
   ],
   "source": [
    "a1"
   ]
  },
  {
   "cell_type": "code",
   "execution_count": 256,
   "id": "2768db65",
   "metadata": {},
   "outputs": [
    {
     "data": {
      "text/plain": [
       "array([[[1. ],\n",
       "        [2. ],\n",
       "        [3.3]],\n",
       "\n",
       "       [[4. ],\n",
       "        [5. ],\n",
       "        [6.5]]])"
      ]
     },
     "execution_count": 256,
     "metadata": {},
     "output_type": "execute_result"
    }
   ],
   "source": [
    "a2"
   ]
  },
  {
   "cell_type": "code",
   "execution_count": 265,
   "id": "486c06de",
   "metadata": {},
   "outputs": [
    {
     "data": {
      "text/plain": [
       "array([[[False,  True,  True],\n",
       "        [False, False,  True],\n",
       "        [False, False, False]],\n",
       "\n",
       "       [[False, False, False],\n",
       "        [False, False, False],\n",
       "        [False, False, False]]])"
      ]
     },
     "execution_count": 265,
     "metadata": {},
     "output_type": "execute_result"
    }
   ],
   "source": [
    "a1 > a2"
   ]
  },
  {
   "cell_type": "code",
   "execution_count": 266,
   "id": "cff494d7",
   "metadata": {},
   "outputs": [
    {
     "data": {
      "text/plain": [
       "array([[[False,  True,  True],\n",
       "        [False, False,  True],\n",
       "        [False, False, False]],\n",
       "\n",
       "       [[False, False, False],\n",
       "        [False, False, False],\n",
       "        [False, False, False]]])"
      ]
     },
     "execution_count": 266,
     "metadata": {},
     "output_type": "execute_result"
    }
   ],
   "source": [
    "np.greater(a1, a2)"
   ]
  },
  {
   "cell_type": "code",
   "execution_count": 258,
   "id": "29212a0f",
   "metadata": {},
   "outputs": [
    {
     "data": {
      "text/plain": [
       "array([[[ True,  True,  True],\n",
       "        [False,  True,  True],\n",
       "        [False, False, False]],\n",
       "\n",
       "       [[False, False, False],\n",
       "        [False, False, False],\n",
       "        [False, False, False]]])"
      ]
     },
     "execution_count": 258,
     "metadata": {},
     "output_type": "execute_result"
    }
   ],
   "source": [
    "a1 >= a2"
   ]
  },
  {
   "cell_type": "code",
   "execution_count": 267,
   "id": "538813f2",
   "metadata": {},
   "outputs": [
    {
     "data": {
      "text/plain": [
       "array([[[ True,  True,  True],\n",
       "        [False,  True,  True],\n",
       "        [False, False, False]],\n",
       "\n",
       "       [[False, False, False],\n",
       "        [False, False, False],\n",
       "        [False, False, False]]])"
      ]
     },
     "execution_count": 267,
     "metadata": {},
     "output_type": "execute_result"
    }
   ],
   "source": [
    "np.greater_equal(a1, a2)"
   ]
  },
  {
   "cell_type": "code",
   "execution_count": 259,
   "id": "b7282bbd",
   "metadata": {},
   "outputs": [
    {
     "data": {
      "text/plain": [
       "array([False, False, False])"
      ]
     },
     "execution_count": 259,
     "metadata": {},
     "output_type": "execute_result"
    }
   ],
   "source": [
    "a1 > 5"
   ]
  },
  {
   "cell_type": "code",
   "execution_count": 268,
   "id": "7e5f5f45",
   "metadata": {},
   "outputs": [
    {
     "data": {
      "text/plain": [
       "array([False, False, False])"
      ]
     },
     "execution_count": 268,
     "metadata": {},
     "output_type": "execute_result"
    }
   ],
   "source": [
    "np.greater(a1, 5)"
   ]
  },
  {
   "cell_type": "code",
   "execution_count": 260,
   "id": "9ed48eec",
   "metadata": {},
   "outputs": [
    {
     "data": {
      "text/plain": [
       "array([ True,  True,  True])"
      ]
     },
     "execution_count": 260,
     "metadata": {},
     "output_type": "execute_result"
    }
   ],
   "source": [
    "a1 < 5"
   ]
  },
  {
   "cell_type": "code",
   "execution_count": 269,
   "id": "411c94fd",
   "metadata": {},
   "outputs": [
    {
     "data": {
      "text/plain": [
       "array([ True,  True,  True])"
      ]
     },
     "execution_count": 269,
     "metadata": {},
     "output_type": "execute_result"
    }
   ],
   "source": [
    "np.less(a1, 5)"
   ]
  },
  {
   "cell_type": "code",
   "execution_count": 261,
   "id": "a0da6e73",
   "metadata": {},
   "outputs": [
    {
     "data": {
      "text/plain": [
       "array([ True,  True,  True])"
      ]
     },
     "execution_count": 261,
     "metadata": {},
     "output_type": "execute_result"
    }
   ],
   "source": [
    "a1 == a1"
   ]
  },
  {
   "cell_type": "code",
   "execution_count": 270,
   "id": "f7483cb4",
   "metadata": {},
   "outputs": [
    {
     "data": {
      "text/plain": [
       "array([ True,  True,  True])"
      ]
     },
     "execution_count": 270,
     "metadata": {},
     "output_type": "execute_result"
    }
   ],
   "source": [
    "np.equal(a1, a1)"
   ]
  },
  {
   "cell_type": "code",
   "execution_count": 262,
   "id": "7032b7e7",
   "metadata": {},
   "outputs": [
    {
     "data": {
      "text/plain": [
       "array([[[ True, False, False],\n",
       "        [False,  True, False],\n",
       "        [False, False, False]],\n",
       "\n",
       "       [[False, False, False],\n",
       "        [False, False, False],\n",
       "        [False, False, False]]])"
      ]
     },
     "execution_count": 262,
     "metadata": {},
     "output_type": "execute_result"
    }
   ],
   "source": [
    "a1 == a2"
   ]
  },
  {
   "cell_type": "code",
   "execution_count": 271,
   "id": "eb9ec7b5",
   "metadata": {},
   "outputs": [
    {
     "data": {
      "text/plain": [
       "array([[[ True, False, False],\n",
       "        [False,  True, False],\n",
       "        [False, False, False]],\n",
       "\n",
       "       [[False, False, False],\n",
       "        [False, False, False],\n",
       "        [False, False, False]]])"
      ]
     },
     "execution_count": 271,
     "metadata": {},
     "output_type": "execute_result"
    }
   ],
   "source": [
    "np.equal(a1, a2)"
   ]
  },
  {
   "cell_type": "markdown",
   "id": "585f37e9",
   "metadata": {},
   "source": [
    "## Sorting NumPy Arrays"
   ]
  },
  {
   "cell_type": "markdown",
   "id": "9ac318d2",
   "metadata": {},
   "source": [
    "[Numpy Sorting](https://numpy.org/doc/stable/reference/routines.sort.html#sorting)"
   ]
  },
  {
   "cell_type": "code",
   "execution_count": 304,
   "id": "b0287606",
   "metadata": {},
   "outputs": [],
   "source": [
    "unordered_array = np.array([10, 2, 6])"
   ]
  },
  {
   "cell_type": "code",
   "execution_count": 305,
   "id": "eeede231",
   "metadata": {},
   "outputs": [
    {
     "data": {
      "text/plain": [
       "array([ 2,  6, 10])"
      ]
     },
     "execution_count": 305,
     "metadata": {},
     "output_type": "execute_result"
    }
   ],
   "source": [
    "np.sort(unordered_array)  # returns a sorted copy of an array"
   ]
  },
  {
   "cell_type": "code",
   "execution_count": 306,
   "id": "63a9bd8a",
   "metadata": {},
   "outputs": [
    {
     "data": {
      "text/plain": [
       "array([10,  2,  6])"
      ]
     },
     "execution_count": 306,
     "metadata": {},
     "output_type": "execute_result"
    }
   ],
   "source": [
    "unordered_array"
   ]
  },
  {
   "cell_type": "code",
   "execution_count": 307,
   "id": "55cc051e",
   "metadata": {},
   "outputs": [],
   "source": [
    "unordered_array.sort() ## in-place sort"
   ]
  },
  {
   "cell_type": "code",
   "execution_count": 308,
   "id": "19fbce54",
   "metadata": {},
   "outputs": [
    {
     "data": {
      "text/plain": [
       "array([ 2,  6, 10])"
      ]
     },
     "execution_count": 308,
     "metadata": {},
     "output_type": "execute_result"
    }
   ],
   "source": [
    "unordered_array"
   ]
  },
  {
   "cell_type": "code",
   "execution_count": 309,
   "id": "e1895f2f",
   "metadata": {},
   "outputs": [],
   "source": [
    "unordered_array = np.array([10, 2, 6])"
   ]
  },
  {
   "cell_type": "code",
   "execution_count": 310,
   "id": "fdb9179b",
   "metadata": {},
   "outputs": [
    {
     "data": {
      "text/plain": [
       "array([1, 2, 0])"
      ]
     },
     "execution_count": 310,
     "metadata": {},
     "output_type": "execute_result"
    }
   ],
   "source": [
    "unordered_array.argsort()  # returns the sorted indices of the elements in the array"
   ]
  },
  {
   "cell_type": "code",
   "execution_count": 311,
   "id": "40aa6a21",
   "metadata": {},
   "outputs": [
    {
     "data": {
      "text/plain": [
       "array([10,  2,  6])"
      ]
     },
     "execution_count": 311,
     "metadata": {},
     "output_type": "execute_result"
    }
   ],
   "source": [
    "unordered_array"
   ]
  },
  {
   "cell_type": "code",
   "execution_count": 312,
   "id": "25201d77",
   "metadata": {},
   "outputs": [
    {
     "data": {
      "text/plain": [
       "1"
      ]
     },
     "execution_count": 312,
     "metadata": {},
     "output_type": "execute_result"
    }
   ],
   "source": [
    "unordered_array.argmin()  # returns the index of the smallest item"
   ]
  },
  {
   "cell_type": "code",
   "execution_count": 313,
   "id": "faf3f9ef",
   "metadata": {},
   "outputs": [
    {
     "data": {
      "text/plain": [
       "0"
      ]
     },
     "execution_count": 313,
     "metadata": {},
     "output_type": "execute_result"
    }
   ],
   "source": [
    "unordered_array.argmax()  # returns the index of the maximum value"
   ]
  },
  {
   "cell_type": "code",
   "execution_count": 324,
   "id": "cd2711cb",
   "metadata": {},
   "outputs": [],
   "source": [
    "np.random.seed(0)\n",
    "random_array = np.random.randint(10, size=(3, 5))"
   ]
  },
  {
   "cell_type": "code",
   "execution_count": 326,
   "id": "86131a65",
   "metadata": {},
   "outputs": [
    {
     "data": {
      "text/plain": [
       "array([[5, 0, 3, 3, 7],\n",
       "       [9, 3, 5, 2, 4],\n",
       "       [7, 6, 8, 8, 1]])"
      ]
     },
     "execution_count": 326,
     "metadata": {},
     "output_type": "execute_result"
    }
   ],
   "source": [
    "random_array"
   ]
  },
  {
   "cell_type": "code",
   "execution_count": 327,
   "id": "a10fc3a3",
   "metadata": {},
   "outputs": [
    {
     "data": {
      "text/plain": [
       "array([1, 2, 2, 2, 0])"
      ]
     },
     "execution_count": 327,
     "metadata": {},
     "output_type": "execute_result"
    }
   ],
   "source": [
    "np.argmax(random_array, axis=0)  # columns"
   ]
  },
  {
   "cell_type": "code",
   "execution_count": 328,
   "id": "1cb2a0e4",
   "metadata": {},
   "outputs": [
    {
     "data": {
      "text/plain": [
       "array([4, 0, 2])"
      ]
     },
     "execution_count": 328,
     "metadata": {},
     "output_type": "execute_result"
    }
   ],
   "source": [
    "np.argmax(random_array, axis=1)  # rows"
   ]
  },
  {
   "cell_type": "markdown",
   "id": "8d9bc658",
   "metadata": {},
   "source": [
    "## Turn Images into NumPy Arrays"
   ]
  },
  {
   "cell_type": "markdown",
   "id": "40609246",
   "metadata": {},
   "source": [
    "Remember the premise of Machine Learning - take some data, convert it into numbers, find patterns in those numbers, make predictions."
   ]
  },
  {
   "cell_type": "markdown",
   "id": "c575bfaa",
   "metadata": {},
   "source": [
    "<img src=\"images/panda.png\"/>"
   ]
  },
  {
   "cell_type": "markdown",
   "id": "91d43a27",
   "metadata": {},
   "source": [
    "Turn image into a NumPy array"
   ]
  },
  {
   "cell_type": "code",
   "execution_count": 330,
   "id": "7b82ddb4",
   "metadata": {},
   "outputs": [],
   "source": [
    "from matplotlib.image import imread"
   ]
  },
  {
   "cell_type": "markdown",
   "id": "e2676dab",
   "metadata": {},
   "source": [
    "[imread() documentation](https://matplotlib.org/stable/api/_as_gen/matplotlib.pyplot.imread.html)\n",
    "\n",
    "> Dear Matplotlib, your documentation is shit."
   ]
  },
  {
   "cell_type": "code",
   "execution_count": 331,
   "id": "caedde34",
   "metadata": {},
   "outputs": [
    {
     "name": "stdout",
     "output_type": "stream",
     "text": [
      "<class 'numpy.ndarray'>\n"
     ]
    }
   ],
   "source": [
    "panda = imread('./images/panda.png')\n",
    "print(type(panda))"
   ]
  },
  {
   "cell_type": "code",
   "execution_count": 341,
   "id": "b3bc32d9",
   "metadata": {},
   "outputs": [
    {
     "data": {
      "text/plain": [
       "(24465000, (2330, 3500, 3), 3)"
      ]
     },
     "execution_count": 341,
     "metadata": {},
     "output_type": "execute_result"
    }
   ],
   "source": [
    "# num pixels, array shape, number of dimensions\n",
    "panda.size, panda.shape, panda.ndim"
   ]
  },
  {
   "cell_type": "code",
   "execution_count": 336,
   "id": "46357765",
   "metadata": {},
   "outputs": [
    {
     "data": {
      "text/plain": [
       "array([[[0.05490196, 0.10588235, 0.06666667],\n",
       "        [0.05490196, 0.10588235, 0.06666667],\n",
       "        [0.05490196, 0.10588235, 0.06666667],\n",
       "        ...,\n",
       "        [0.16470589, 0.12941177, 0.09411765],\n",
       "        [0.16470589, 0.12941177, 0.09411765],\n",
       "        [0.16470589, 0.12941177, 0.09411765]],\n",
       "\n",
       "       [[0.05490196, 0.10588235, 0.06666667],\n",
       "        [0.05490196, 0.10588235, 0.06666667],\n",
       "        [0.05490196, 0.10588235, 0.06666667],\n",
       "        ...,\n",
       "        [0.16470589, 0.12941177, 0.09411765],\n",
       "        [0.16470589, 0.12941177, 0.09411765],\n",
       "        [0.16470589, 0.12941177, 0.09411765]],\n",
       "\n",
       "       [[0.05490196, 0.10588235, 0.06666667],\n",
       "        [0.05490196, 0.10588235, 0.06666667],\n",
       "        [0.05490196, 0.10588235, 0.06666667],\n",
       "        ...,\n",
       "        [0.16470589, 0.12941177, 0.09411765],\n",
       "        [0.16470589, 0.12941177, 0.09411765],\n",
       "        [0.16470589, 0.12941177, 0.09411765]],\n",
       "\n",
       "       [[0.05490196, 0.10588235, 0.06666667],\n",
       "        [0.05490196, 0.10588235, 0.06666667],\n",
       "        [0.05490196, 0.10588235, 0.06666667],\n",
       "        ...,\n",
       "        [0.16862746, 0.13333334, 0.09803922],\n",
       "        [0.16862746, 0.13333334, 0.09803922],\n",
       "        [0.16862746, 0.13333334, 0.09803922]],\n",
       "\n",
       "       [[0.05490196, 0.10588235, 0.06666667],\n",
       "        [0.05490196, 0.10588235, 0.06666667],\n",
       "        [0.05490196, 0.10588235, 0.06666667],\n",
       "        ...,\n",
       "        [0.16862746, 0.13333334, 0.09803922],\n",
       "        [0.16862746, 0.13333334, 0.09803922],\n",
       "        [0.16862746, 0.13333334, 0.09803922]]], dtype=float32)"
      ]
     },
     "execution_count": 336,
     "metadata": {},
     "output_type": "execute_result"
    }
   ],
   "source": [
    "panda[:5]"
   ]
  },
  {
   "cell_type": "markdown",
   "id": "01e31fd4",
   "metadata": {},
   "source": [
    "The array contains numbers representing the amount of red, green and blue colour in **each pixel** of the image!\n",
    "\n",
    "The array has 3 dimensions for the 3 colours: red, green blue."
   ]
  },
  {
   "cell_type": "markdown",
   "id": "ff61f3f3",
   "metadata": {},
   "source": [
    "<img src=\"./images/car-photo.png\"/>"
   ]
  },
  {
   "cell_type": "code",
   "execution_count": 337,
   "id": "f64a9a7d",
   "metadata": {},
   "outputs": [
    {
     "name": "stdout",
     "output_type": "stream",
     "text": [
      "<class 'numpy.ndarray'>\n"
     ]
    }
   ],
   "source": [
    "car = imread('./images/car-photo.png')\n",
    "print(type(car))"
   ]
  },
  {
   "cell_type": "code",
   "execution_count": 338,
   "id": "58536f98",
   "metadata": {},
   "outputs": [
    {
     "data": {
      "text/plain": [
       "array([[[0.5019608 , 0.50980395, 0.4862745 , 1.        ],\n",
       "        [0.3372549 , 0.34509805, 0.30588236, 1.        ],\n",
       "        [0.20392157, 0.21568628, 0.14901961, 1.        ],\n",
       "        ...,\n",
       "        [0.64705884, 0.7058824 , 0.54901963, 1.        ],\n",
       "        [0.59607846, 0.63529414, 0.45882353, 1.        ],\n",
       "        [0.44705883, 0.47058824, 0.3372549 , 1.        ]]], dtype=float32)"
      ]
     },
     "execution_count": 338,
     "metadata": {},
     "output_type": "execute_result"
    }
   ],
   "source": [
    "car[:1]"
   ]
  },
  {
   "cell_type": "markdown",
   "id": "aee8a95e",
   "metadata": {},
   "source": [
    "<img src=\"./images/dog-photo.png\"/>"
   ]
  },
  {
   "cell_type": "code",
   "execution_count": 339,
   "id": "ce5d6dcf",
   "metadata": {},
   "outputs": [
    {
     "name": "stdout",
     "output_type": "stream",
     "text": [
      "<class 'numpy.ndarray'>\n"
     ]
    }
   ],
   "source": [
    "dog = imread('./images/dog-photo.png')\n",
    "print(type(dog))"
   ]
  },
  {
   "cell_type": "code",
   "execution_count": 340,
   "id": "1d249e03",
   "metadata": {},
   "outputs": [
    {
     "data": {
      "text/plain": [
       "array([[[0.70980394, 0.80784315, 0.88235295, 1.        ],\n",
       "        [0.72156864, 0.8117647 , 0.8862745 , 1.        ],\n",
       "        [0.7411765 , 0.8156863 , 0.8862745 , 1.        ],\n",
       "        ...,\n",
       "        [0.49803922, 0.6862745 , 0.8392157 , 1.        ],\n",
       "        [0.49411765, 0.68235296, 0.8392157 , 1.        ],\n",
       "        [0.49411765, 0.68235296, 0.8352941 , 1.        ]]], dtype=float32)"
      ]
     },
     "execution_count": 340,
     "metadata": {},
     "output_type": "execute_result"
    }
   ],
   "source": [
    "dog[:1]"
   ]
  },
  {
   "cell_type": "markdown",
   "id": "5d993d98",
   "metadata": {},
   "source": [
    "When feeding these images into a Machine Learning model, the model will start to make predictions on what is contained in the image, based on the paterns in the pixel numbers contained in the NumPy arrays for each image.\n",
    "\n",
    "E.g. the numbers representing pixel colours in each array for the grass sections of the images are close together, so the ML model may recognize this pattern and categorize that particular pattern of pixel colour numbers as grass. Then for new images the model encounters, if it sees similar patterns in pixel colour numbers, it will also categorize that pattern as grass.\n",
    "\n",
    "The accuracy of the categorizations the model produces is then validated against a test set of images where we give it the answers. Over time, the ML model will \"learn\" which patterns of pixel colours are in fact grass and make better predictions."
   ]
  },
  {
   "cell_type": "code",
   "execution_count": null,
   "id": "8f609a72",
   "metadata": {},
   "outputs": [],
   "source": []
  }
 ],
 "metadata": {
  "kernelspec": {
   "display_name": "Python (ztm-ml-course)",
   "language": "python",
   "name": "ztm-ml-course"
  },
  "language_info": {
   "codemirror_mode": {
    "name": "ipython",
    "version": 3
   },
   "file_extension": ".py",
   "mimetype": "text/x-python",
   "name": "python",
   "nbconvert_exporter": "python",
   "pygments_lexer": "ipython3",
   "version": "3.9.6"
  }
 },
 "nbformat": 4,
 "nbformat_minor": 5
}
